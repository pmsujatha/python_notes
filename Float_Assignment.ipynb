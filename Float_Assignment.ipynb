{
 "cells": [
  {
   "cell_type": "code",
   "execution_count": null,
   "id": "e24b3d9f",
   "metadata": {},
   "outputs": [],
   "source": [
    "# Declare a float value and store it in a variable.\n",
    "# Check the type and print the id of the same."
   ]
  },
  {
   "cell_type": "code",
   "execution_count": 1,
   "id": "d3dfb9d3",
   "metadata": {},
   "outputs": [
    {
     "name": "stdout",
     "output_type": "stream",
     "text": [
      "56.58 <class 'float'>\n"
     ]
    }
   ],
   "source": [
    "a = 56.58\n",
    "\n",
    "print(a, type(a))"
   ]
  },
  {
   "cell_type": "markdown",
   "id": "3881fea3",
   "metadata": {},
   "source": [
    "# Arithmetic Operations on float"
   ]
  },
  {
   "cell_type": "code",
   "execution_count": 2,
   "id": "423ba292",
   "metadata": {},
   "outputs": [
    {
     "name": "stdout",
     "output_type": "stream",
     "text": [
      "21.46\n"
     ]
    }
   ],
   "source": [
    "# Find sum of both numbers\n",
    "\n",
    "a = 12.56\n",
    "b = 8.9\n",
    "\n",
    "print(a+b)"
   ]
  },
  {
   "cell_type": "code",
   "execution_count": 3,
   "id": "f3e6ad01",
   "metadata": {},
   "outputs": [
    {
     "name": "stdout",
     "output_type": "stream",
     "text": [
      "3.66\n"
     ]
    }
   ],
   "source": [
    "# Find difference between them\n",
    "\n",
    "a = 12.56\n",
    "b = 8.9\n",
    "\n",
    "print(a-b)"
   ]
  },
  {
   "cell_type": "code",
   "execution_count": 4,
   "id": "7f2fabdc",
   "metadata": {},
   "outputs": [
    {
     "name": "stdout",
     "output_type": "stream",
     "text": [
      "111.784\n"
     ]
    }
   ],
   "source": [
    "# Find the product of both numbers.\n",
    "\n",
    "a = 12.56\n",
    "b = 8.9\n",
    "\n",
    "print(a*b)"
   ]
  },
  {
   "cell_type": "code",
   "execution_count": 5,
   "id": "c8132582",
   "metadata": {},
   "outputs": [
    {
     "name": "stdout",
     "output_type": "stream",
     "text": [
      "1.4112359550561797\n"
     ]
    }
   ],
   "source": [
    "# Find value after dividing first num with second number\n",
    "\n",
    "a = 12.56\n",
    "b = 8.9\n",
    "\n",
    "print(a/b)"
   ]
  },
  {
   "cell_type": "code",
   "execution_count": 6,
   "id": "76b4eefb",
   "metadata": {},
   "outputs": [
    {
     "name": "stdout",
     "output_type": "stream",
     "text": [
      "3.66\n"
     ]
    }
   ],
   "source": [
    "# Find the remainder after dividing first number with second number\n",
    "\n",
    "a = 12.56\n",
    "b = 8.9\n",
    "\n",
    "print(a%b)"
   ]
  },
  {
   "cell_type": "code",
   "execution_count": 7,
   "id": "bdfb2bf5",
   "metadata": {},
   "outputs": [
    {
     "name": "stdout",
     "output_type": "stream",
     "text": [
      "1.0\n"
     ]
    }
   ],
   "source": [
    "# Find the quotient after dividing first number with second number\n",
    "\n",
    "a = 12.56\n",
    "b = 8.9\n",
    "\n",
    "print(a//b)"
   ]
  },
  {
   "cell_type": "code",
   "execution_count": 9,
   "id": "3f9af2a0",
   "metadata": {},
   "outputs": [
    {
     "name": "stdout",
     "output_type": "stream",
     "text": [
      "6039594635.157854\n"
     ]
    }
   ],
   "source": [
    "# Find the result of the first num to the power of the second number.\n",
    "\n",
    "a = 12.56\n",
    "b = 8.9\n",
    "\n",
    "print(a**b)"
   ]
  },
  {
   "cell_type": "markdown",
   "id": "4bf053b1",
   "metadata": {},
   "source": [
    "# Comparison Operators on float"
   ]
  },
  {
   "cell_type": "code",
   "execution_count": null,
   "id": "c568f14e",
   "metadata": {},
   "outputs": [],
   "source": [
    "# Compare these two numbers with below operator:-"
   ]
  },
  {
   "cell_type": "code",
   "execution_count": 10,
   "id": "53445ddc",
   "metadata": {},
   "outputs": [
    {
     "name": "stdout",
     "output_type": "stream",
     "text": [
      "True\n"
     ]
    }
   ],
   "source": [
    "# Greater than, '>'\n",
    "\n",
    "a = 12.56\n",
    "b = 8.9\n",
    "\n",
    "print(a>b)"
   ]
  },
  {
   "cell_type": "code",
   "execution_count": 11,
   "id": "bf3fd8eb",
   "metadata": {},
   "outputs": [
    {
     "name": "stdout",
     "output_type": "stream",
     "text": [
      "False\n"
     ]
    }
   ],
   "source": [
    "# Smaller than, '<'\n",
    "\n",
    "a = 12.56\n",
    "b = 8.9\n",
    "\n",
    "print(a<b)"
   ]
  },
  {
   "cell_type": "code",
   "execution_count": 12,
   "id": "ea7aa2ae",
   "metadata": {},
   "outputs": [
    {
     "name": "stdout",
     "output_type": "stream",
     "text": [
      "True\n"
     ]
    }
   ],
   "source": [
    "# Greater than or equal to, '>='\n",
    "\n",
    "a = 12.56\n",
    "b = 8.9\n",
    "\n",
    "print(a>=b)"
   ]
  },
  {
   "cell_type": "code",
   "execution_count": 13,
   "id": "4c9ab849",
   "metadata": {},
   "outputs": [
    {
     "name": "stdout",
     "output_type": "stream",
     "text": [
      "False\n"
     ]
    }
   ],
   "source": [
    "# Greater than or equal to, '<='\n",
    "\n",
    "a = 12.56\n",
    "b = 8.9\n",
    "\n",
    "print(a<=b)"
   ]
  },
  {
   "cell_type": "markdown",
   "id": "f658ed9e",
   "metadata": {},
   "source": [
    "# Equality operation"
   ]
  },
  {
   "cell_type": "code",
   "execution_count": 15,
   "id": "fe74e66a",
   "metadata": {},
   "outputs": [
    {
     "name": "stdout",
     "output_type": "stream",
     "text": [
      "False\n"
     ]
    }
   ],
   "source": [
    "# Equate them using equality operators (==)\n",
    "\n",
    "a = 12.56\n",
    "b = 8.9\n",
    "\n",
    "print(a == b) # a and b values is diff"
   ]
  },
  {
   "cell_type": "code",
   "execution_count": 17,
   "id": "98902186",
   "metadata": {},
   "outputs": [
    {
     "name": "stdout",
     "output_type": "stream",
     "text": [
      "True\n"
     ]
    }
   ],
   "source": [
    "# Equate them using equality operators (!=)\n",
    "\n",
    "a = 12.56\n",
    "b = 8.9\n",
    "\n",
    "print(a != b)"
   ]
  },
  {
   "cell_type": "markdown",
   "id": "705263d0",
   "metadata": {},
   "source": [
    "# Logical operators"
   ]
  },
  {
   "cell_type": "code",
   "execution_count": 18,
   "id": "79408593",
   "metadata": {},
   "outputs": [
    {
     "name": "stdout",
     "output_type": "stream",
     "text": [
      "20.3\n"
     ]
    }
   ],
   "source": [
    "#Observe the output of below code\n",
    "\n",
    "a = 10.20\n",
    "b = 20.30\n",
    "\n",
    "print(a and b) # and is always taking false value"
   ]
  },
  {
   "cell_type": "code",
   "execution_count": 19,
   "id": "1db685be",
   "metadata": {},
   "outputs": [
    {
     "name": "stdout",
     "output_type": "stream",
     "text": [
      "0.0\n"
     ]
    }
   ],
   "source": [
    "#Observe the output of below code\n",
    "\n",
    "a = 0.0\n",
    "b = 20.30\n",
    "\n",
    "print(a and b) # and is always taking false value"
   ]
  },
  {
   "cell_type": "code",
   "execution_count": 20,
   "id": "f7d1eef5",
   "metadata": {},
   "outputs": [
    {
     "name": "stdout",
     "output_type": "stream",
     "text": [
      "0.0\n"
     ]
    }
   ],
   "source": [
    "#Observe the output of below code\n",
    "\n",
    "a = 20.30\n",
    "b = 0.0\n",
    "\n",
    "print(a and b) # in logical operation float 0.0 is false and rest of all true"
   ]
  },
  {
   "cell_type": "code",
   "execution_count": 21,
   "id": "3254e3b8",
   "metadata": {},
   "outputs": [
    {
     "name": "stdout",
     "output_type": "stream",
     "text": [
      "0.0\n"
     ]
    }
   ],
   "source": [
    "#Observe the output of below code\n",
    "\n",
    "a = 0.0\n",
    "b = 0.0\n",
    "\n",
    "print(a and b) # and is always taking false value"
   ]
  },
  {
   "cell_type": "code",
   "execution_count": 22,
   "id": "6039c043",
   "metadata": {},
   "outputs": [
    {
     "name": "stdout",
     "output_type": "stream",
     "text": [
      "10.2\n"
     ]
    }
   ],
   "source": [
    "# Observe the output of below code\n",
    "\n",
    "a = 10.20\n",
    "b = 20.30\n",
    "\n",
    "print(a or b) # or is always taking True value"
   ]
  },
  {
   "cell_type": "code",
   "execution_count": 23,
   "id": "aa12bd78",
   "metadata": {},
   "outputs": [
    {
     "name": "stdout",
     "output_type": "stream",
     "text": [
      "20.3\n"
     ]
    }
   ],
   "source": [
    "# Observe the output of below code\n",
    "\n",
    "a = 0.0\n",
    "b = 20.30\n",
    "\n",
    "print(a or b) # or is always taking True value"
   ]
  },
  {
   "cell_type": "code",
   "execution_count": 24,
   "id": "fc4f463a",
   "metadata": {},
   "outputs": [
    {
     "name": "stdout",
     "output_type": "stream",
     "text": [
      "20.3\n"
     ]
    }
   ],
   "source": [
    "# Observe the output of below code\n",
    "\n",
    "a = 20.30\n",
    "b = 0.0\n",
    "\n",
    "print(a or b) # or is always taking True value"
   ]
  },
  {
   "cell_type": "code",
   "execution_count": 28,
   "id": "d507aaf3",
   "metadata": {},
   "outputs": [
    {
     "name": "stdout",
     "output_type": "stream",
     "text": [
      "0.0\n"
     ]
    }
   ],
   "source": [
    "# Observe the output of below code\n",
    "\n",
    "a = 0.0\n",
    "b = 0.0\n",
    "\n",
    "print(a or b) # or is always taking True value"
   ]
  },
  {
   "cell_type": "code",
   "execution_count": 26,
   "id": "c99dc3bb",
   "metadata": {},
   "outputs": [
    {
     "name": "stdout",
     "output_type": "stream",
     "text": [
      "False\n"
     ]
    }
   ],
   "source": [
    "# Observe the output of below code\n",
    "\n",
    "a = 10.20\n",
    "b = 0.0\n",
    "\n",
    "print(not a) # not is always taking opp value (true = false)"
   ]
  },
  {
   "cell_type": "code",
   "execution_count": 27,
   "id": "834f9ca1",
   "metadata": {},
   "outputs": [
    {
     "name": "stdout",
     "output_type": "stream",
     "text": [
      "True\n"
     ]
    }
   ],
   "source": [
    "# Observe the output of below code\n",
    "\n",
    "a = 10.20\n",
    "b = 0.0\n",
    "\n",
    "print(not b) "
   ]
  },
  {
   "cell_type": "code",
   "execution_count": 29,
   "id": "802177f2",
   "metadata": {},
   "outputs": [
    {
     "name": "stdout",
     "output_type": "stream",
     "text": [
      "2905794897808\n",
      "2905795777040\n"
     ]
    }
   ],
   "source": [
    "# What is the output of expression inside print statement. Cross checkbefore running the program.\n",
    "\n",
    "a = 10.20\n",
    "b = 10.20\n",
    "\n",
    "print(id(a))\n",
    "print(id(b)) # float is immutable in python"
   ]
  },
  {
   "cell_type": "code",
   "execution_count": 30,
   "id": "20c52209",
   "metadata": {},
   "outputs": [
    {
     "name": "stdout",
     "output_type": "stream",
     "text": [
      "2905795778160\n",
      "2905795777328\n",
      "False\n"
     ]
    }
   ],
   "source": [
    "a = 10.20\n",
    "b = 10.20\n",
    "\n",
    "print(id(a))\n",
    "print(id(b))\n",
    "\n",
    "print(a is b) # (a and b identity values store in diff)"
   ]
  },
  {
   "cell_type": "code",
   "execution_count": 31,
   "id": "1e5e957a",
   "metadata": {},
   "outputs": [
    {
     "name": "stdout",
     "output_type": "stream",
     "text": [
      "2905795140592\n",
      "2905795777040\n",
      "True\n"
     ]
    }
   ],
   "source": [
    "a = 10.20\n",
    "b = 10.20\n",
    "\n",
    "print(id(a))\n",
    "print(id(b))\n",
    "\n",
    "print(a is not b) # (a and b identity values store in diff)"
   ]
  },
  {
   "cell_type": "code",
   "execution_count": 35,
   "id": "1fe15c64",
   "metadata": {},
   "outputs": [
    {
     "name": "stdout",
     "output_type": "stream",
     "text": [
      "2905795140592\n",
      "2905795779216\n"
     ]
    }
   ],
   "source": [
    "a = 10.5\n",
    "b = 10.5\n",
    "\n",
    "\n",
    "\n",
    "print(id(a))\n",
    "print(id(b))\n",
    "\n"
   ]
  },
  {
   "cell_type": "markdown",
   "id": "2e38aea4",
   "metadata": {},
   "source": [
    "# Membership operation"
   ]
  },
  {
   "cell_type": "code",
   "execution_count": 38,
   "id": "4c2e431d",
   "metadata": {},
   "outputs": [
    {
     "name": "stdout",
     "output_type": "stream",
     "text": [
      "True\n"
     ]
    }
   ],
   "source": [
    "#'2.7' in 'Python2.7.8'\n",
    "\n",
    "a ='python2.7.8'\n",
    "\n",
    "print('2.7' in a) # in membership opp"
   ]
  },
  {
   "cell_type": "code",
   "execution_count": 39,
   "id": "3d4710c8",
   "metadata": {},
   "outputs": [
    {
     "name": "stdout",
     "output_type": "stream",
     "text": [
      "False\n"
     ]
    }
   ],
   "source": [
    "#'2.7' in 'Python2.7.8'\n",
    "\n",
    "a ='python2.7.8'\n",
    "\n",
    "print('2.7' not in a) # not in  membership opp"
   ]
  },
  {
   "cell_type": "code",
   "execution_count": 40,
   "id": "0ecd7a4c",
   "metadata": {},
   "outputs": [
    {
     "name": "stdout",
     "output_type": "stream",
     "text": [
      "True\n"
     ]
    }
   ],
   "source": [
    "# (10.20 in [10,10.20,10+20j,'Python'])\n",
    "\n",
    "a = \"10,10.20,10+20j,'python'\"\n",
    "\n",
    "print('10.20' in a)"
   ]
  },
  {
   "cell_type": "code",
   "execution_count": 41,
   "id": "9f763e41",
   "metadata": {},
   "outputs": [
    {
     "name": "stdout",
     "output_type": "stream",
     "text": [
      "False\n"
     ]
    }
   ],
   "source": [
    "# (10.20 in [10,10.20,10+20j,'Python'])\n",
    "\n",
    "a = \"10,10.20,10+20j,'python'\"\n",
    "\n",
    "print('10.20' not in a)"
   ]
  },
  {
   "cell_type": "code",
   "execution_count": 49,
   "id": "68e4811a",
   "metadata": {},
   "outputs": [
    {
     "name": "stdout",
     "output_type": "stream",
     "text": [
      "True\n"
     ]
    }
   ],
   "source": [
    "# (20.30 in {1,20.30,30+40j})\n",
    "\n",
    "a = '1,20.30,30+40j'\n",
    "\n",
    "print('20.30' in a)"
   ]
  },
  {
   "cell_type": "code",
   "execution_count": 50,
   "id": "4df6957b",
   "metadata": {},
   "outputs": [
    {
     "name": "stdout",
     "output_type": "stream",
     "text": [
      "False\n"
     ]
    }
   ],
   "source": [
    "# (20.30 in {1,20.30,30+40j})\n",
    "\n",
    "a = '1,20.30,30+40j'\n",
    "\n",
    "print('20.30' not in a)"
   ]
  },
  {
   "cell_type": "code",
   "execution_count": 51,
   "id": "b55a5c2d",
   "metadata": {},
   "outputs": [
    {
     "name": "stdout",
     "output_type": "stream",
     "text": [
      "True\n"
     ]
    }
   ],
   "source": [
    "# (2.3 in {1:100, 2.3:200, 30+40j:300})\n",
    "\n",
    "a = {1:100, 2.3:200, 30+40j:300}\n",
    "\n",
    "print(2.3 in a) Membership operation is consider first value only"
   ]
  },
  {
   "cell_type": "code",
   "execution_count": 54,
   "id": "c0c6aed0",
   "metadata": {},
   "outputs": [
    {
     "name": "stdout",
     "output_type": "stream",
     "text": [
      "True\n"
     ]
    }
   ],
   "source": [
    "# (10 in range(20))\n",
    "\n",
    "a = [1,2,3,4,5,6,7,8,9,10,11,12,13,14,15,16,17,18,19,20]\n",
    "\n",
    "print(10 in range(20))\n"
   ]
  },
  {
   "cell_type": "code",
   "execution_count": 55,
   "id": "aaae5812",
   "metadata": {},
   "outputs": [
    {
     "name": "stdout",
     "output_type": "stream",
     "text": [
      "True\n"
     ]
    }
   ],
   "source": [
    "a = range(20)\n",
    "\n",
    "print(10 in a)"
   ]
  },
  {
   "cell_type": "code",
   "execution_count": null,
   "id": "2de567b3",
   "metadata": {},
   "outputs": [],
   "source": []
  },
  {
   "cell_type": "code",
   "execution_count": null,
   "id": "9ec54d08",
   "metadata": {},
   "outputs": [],
   "source": []
  },
  {
   "cell_type": "code",
   "execution_count": null,
   "id": "072f3156",
   "metadata": {},
   "outputs": [],
   "source": []
  },
  {
   "cell_type": "code",
   "execution_count": null,
   "id": "52c99ff1",
   "metadata": {},
   "outputs": [],
   "source": []
  },
  {
   "cell_type": "code",
   "execution_count": null,
   "id": "63cd31d2",
   "metadata": {},
   "outputs": [],
   "source": []
  }
 ],
 "metadata": {
  "kernelspec": {
   "display_name": "Python 3 (ipykernel)",
   "language": "python",
   "name": "python3"
  },
  "language_info": {
   "codemirror_mode": {
    "name": "ipython",
    "version": 3
   },
   "file_extension": ".py",
   "mimetype": "text/x-python",
   "name": "python",
   "nbconvert_exporter": "python",
   "pygments_lexer": "ipython3",
   "version": "3.11.5"
  }
 },
 "nbformat": 4,
 "nbformat_minor": 5
}
