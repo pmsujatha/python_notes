{
 "cells": [
  {
   "cell_type": "code",
   "execution_count": 5,
   "id": "31583bd3",
   "metadata": {},
   "outputs": [
    {
     "name": "stdout",
     "output_type": "stream",
     "text": [
      "brand name: LG\n",
      "brand qty: 34567\n",
      "My brand nameLG and brand qty 34567\n"
     ]
    }
   ],
   "source": [
    "a = input('brand name: ')\n",
    "b = input('brand qty: ')\n",
    "\n",
    "c ='My brand name'  +a+ ' and brand qty '+str(b)\n",
    "\n",
    "print(c)"
   ]
  },
  {
   "cell_type": "markdown",
   "id": "261f4731",
   "metadata": {},
   "source": [
    "# output function"
   ]
  },
  {
   "cell_type": "code",
   "execution_count": 6,
   "id": "3d52d634",
   "metadata": {},
   "outputs": [
    {
     "name": "stdout",
     "output_type": "stream",
     "text": [
      "10 20\n"
     ]
    }
   ],
   "source": [
    "a = 10\n",
    "b = 20\n",
    "\n",
    "print(a,b)\n",
    "    "
   ]
  },
  {
   "cell_type": "markdown",
   "id": "db65b2e9",
   "metadata": {},
   "source": [
    "## 28/11/23"
   ]
  },
  {
   "cell_type": "markdown",
   "id": "cd0b33ac",
   "metadata": {},
   "source": [
    "# logical operation"
   ]
  },
  {
   "cell_type": "code",
   "execution_count": 1,
   "id": "c8348eb2",
   "metadata": {},
   "outputs": [
    {
     "data": {
      "text/plain": [
       "False"
      ]
     },
     "execution_count": 1,
     "metadata": {},
     "output_type": "execute_result"
    }
   ],
   "source": [
    "True and False\n"
   ]
  },
  {
   "cell_type": "code",
   "execution_count": 2,
   "id": "733c9e0f",
   "metadata": {},
   "outputs": [
    {
     "data": {
      "text/plain": [
       "True"
      ]
     },
     "execution_count": 2,
     "metadata": {},
     "output_type": "execute_result"
    }
   ],
   "source": [
    "True and True"
   ]
  },
  {
   "cell_type": "raw",
   "id": "89137607",
   "metadata": {},
   "source": [
    "user_name\n",
    "password ='python'"
   ]
  },
  {
   "cell_type": "code",
   "execution_count": null,
   "id": "f1d20ef4",
   "metadata": {},
   "outputs": [],
   "source": [
    "a = input('Enter your mail ID : ')\n",
    "b = input('Enter your password : ')\n",
    "\n",
    "if (a == user_name) and (b == password):\n",
    "    print('Logged in')\n",
    "else:\n",
    "    print('Incorrect Info')"
   ]
  },
  {
   "cell_type": "code",
   "execution_count": null,
   "id": "3f4520a4",
   "metadata": {},
   "outputs": [],
   "source": [
    "10 and 20\n"
   ]
  },
  {
   "cell_type": "code",
   "execution_count": null,
   "id": "8eab0066",
   "metadata": {},
   "outputs": [],
   "source": [
    "# And\n",
    "\n",
    "# A and B --> result will be A if A is false else B\n",
    "\n",
    "# or\n",
    "# A or B --> result will be A if A is True else B"
   ]
  },
  {
   "cell_type": "code",
   "execution_count": null,
   "id": "ec712654",
   "metadata": {},
   "outputs": [],
   "source": [
    "True and False\n"
   ]
  },
  {
   "cell_type": "code",
   "execution_count": null,
   "id": "de001fa9",
   "metadata": {},
   "outputs": [],
   "source": [
    "a = 10\n",
    "b = 20\n",
    "\n",
    "print(a and b)"
   ]
  },
  {
   "cell_type": "code",
   "execution_count": null,
   "id": "d78877d3",
   "metadata": {},
   "outputs": [],
   "source": [
    "True and False"
   ]
  },
  {
   "cell_type": "code",
   "execution_count": null,
   "id": "4015aab0",
   "metadata": {},
   "outputs": [],
   "source": []
  }
 ],
 "metadata": {
  "kernelspec": {
   "display_name": "Python 3 (ipykernel)",
   "language": "python",
   "name": "python3"
  },
  "language_info": {
   "codemirror_mode": {
    "name": "ipython",
    "version": 3
   },
   "file_extension": ".py",
   "mimetype": "text/x-python",
   "name": "python",
   "nbconvert_exporter": "python",
   "pygments_lexer": "ipython3",
   "version": "3.11.5"
  }
 },
 "nbformat": 4,
 "nbformat_minor": 5
}
