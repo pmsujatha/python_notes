{
 "cells": [
  {
   "cell_type": "code",
   "execution_count": 1,
   "id": "b49c54db",
   "metadata": {},
   "outputs": [
    {
     "name": "stdout",
     "output_type": "stream",
     "text": [
      "True <class 'bool'>\n"
     ]
    }
   ],
   "source": [
    "# Declare a boolean value and store it in a variable.Check the type and print the id of the same.\n",
    "\n",
    "a = bool(78)\n",
    "\n",
    "print(a,type(a))"
   ]
  },
  {
   "cell_type": "code",
   "execution_count": 3,
   "id": "d9f27eb8",
   "metadata": {},
   "outputs": [
    {
     "name": "stdout",
     "output_type": "stream",
     "text": [
      "140713504877088\n",
      "140713504877088\n",
      "True\n"
     ]
    }
   ],
   "source": [
    "#Take one boolean value between 0 - 256.Assign it to two different variables.Check the id of both the variables. It should come the same. Check why?\n",
    "\n",
    "a = bool(34)\n",
    "b = bool(56)\n",
    "\n",
    "print(id(a))\n",
    "print(id(b))\n",
    "\n",
    "print(a is b)"
   ]
  },
  {
   "cell_type": "markdown",
   "id": "1ddd01be",
   "metadata": {},
   "source": [
    "# Arithmetic Operations"
   ]
  },
  {
   "cell_type": "code",
   "execution_count": 4,
   "id": "a6d512b7",
   "metadata": {},
   "outputs": [
    {
     "name": "stdout",
     "output_type": "stream",
     "text": [
      "2\n"
     ]
    }
   ],
   "source": [
    "# Find sum of both values\n",
    "\n",
    "a = bool(34)\n",
    "b = bool(56)\n",
    "\n",
    "print(a+b)\n",
    "\n"
   ]
  },
  {
   "cell_type": "code",
   "execution_count": 5,
   "id": "dac67c2d",
   "metadata": {},
   "outputs": [
    {
     "name": "stdout",
     "output_type": "stream",
     "text": [
      "0\n"
     ]
    }
   ],
   "source": [
    "# Find difference between them\n",
    "\n",
    "a = bool(34)\n",
    "b = bool(56)\n",
    "\n",
    "print(a-b)\n"
   ]
  },
  {
   "cell_type": "code",
   "execution_count": 6,
   "id": "5b53f4f1",
   "metadata": {},
   "outputs": [
    {
     "name": "stdout",
     "output_type": "stream",
     "text": [
      "1\n"
     ]
    }
   ],
   "source": [
    "# Find the product of both.\n",
    "\n",
    "a = bool(34)\n",
    "b = bool(56)\n",
    "\n",
    "print(a*b)"
   ]
  },
  {
   "cell_type": "code",
   "execution_count": 7,
   "id": "229e617a",
   "metadata": {},
   "outputs": [
    {
     "name": "stdout",
     "output_type": "stream",
     "text": [
      "1.0\n"
     ]
    }
   ],
   "source": [
    "# Find value after dividing first value with second value\n",
    "\n",
    "a = bool(34)\n",
    "b = bool(56)\n",
    "\n",
    "print(a/b)"
   ]
  },
  {
   "cell_type": "code",
   "execution_count": 8,
   "id": "d36e847b",
   "metadata": {},
   "outputs": [
    {
     "name": "stdout",
     "output_type": "stream",
     "text": [
      "0\n"
     ]
    }
   ],
   "source": [
    "# Find the remainder after dividing first value with second value\n",
    "\n",
    "a = bool(34)\n",
    "b = bool(56)\n",
    "\n",
    "print(a%b)"
   ]
  },
  {
   "cell_type": "code",
   "execution_count": 10,
   "id": "4057492f",
   "metadata": {},
   "outputs": [
    {
     "name": "stdout",
     "output_type": "stream",
     "text": [
      "1\n"
     ]
    }
   ],
   "source": [
    "# Find the quotient after dividing first value with second value\n",
    "\n",
    "a = bool(34)\n",
    "b = bool(56)\n",
    "\n",
    "print(a//b)"
   ]
  },
  {
   "cell_type": "code",
   "execution_count": 11,
   "id": "67cc2120",
   "metadata": {},
   "outputs": [
    {
     "name": "stdout",
     "output_type": "stream",
     "text": [
      "1\n"
     ]
    }
   ],
   "source": [
    "# Find the result of first value to the power of second value.\n",
    "\n",
    "a = bool(34)\n",
    "b = bool(56)\n",
    "\n",
    "print(a**b)\n"
   ]
  },
  {
   "cell_type": "markdown",
   "id": "e3a09846",
   "metadata": {},
   "source": [
    "# Comparison Operators"
   ]
  },
  {
   "cell_type": "code",
   "execution_count": 12,
   "id": "f53146ac",
   "metadata": {},
   "outputs": [
    {
     "name": "stdout",
     "output_type": "stream",
     "text": [
      "False\n"
     ]
    }
   ],
   "source": [
    "# Greater than, '>'\n",
    "\n",
    "\n",
    "a = bool(34)\n",
    "b = bool(56)\n",
    "\n",
    "print(a>b)"
   ]
  },
  {
   "cell_type": "code",
   "execution_count": 13,
   "id": "b5c58b59",
   "metadata": {},
   "outputs": [
    {
     "name": "stdout",
     "output_type": "stream",
     "text": [
      "False\n"
     ]
    }
   ],
   "source": [
    "# less than, '<'\n",
    "\n",
    "\n",
    "a = bool(34)\n",
    "b = bool(56)\n",
    "\n",
    "print(a<b)"
   ]
  },
  {
   "cell_type": "code",
   "execution_count": 15,
   "id": "f8f67f86",
   "metadata": {},
   "outputs": [
    {
     "name": "stdout",
     "output_type": "stream",
     "text": [
      "True\n"
     ]
    }
   ],
   "source": [
    "# Greater than or equal to, '>='\n",
    "\n",
    "\n",
    "a = bool(34)\n",
    "b = bool(56)\n",
    "\n",
    "print(a>=b)"
   ]
  },
  {
   "cell_type": "code",
   "execution_count": 16,
   "id": "9d9c09e5",
   "metadata": {},
   "outputs": [
    {
     "name": "stdout",
     "output_type": "stream",
     "text": [
      "True\n"
     ]
    }
   ],
   "source": [
    "# Less than or equal to, '<='\n",
    "\n",
    "\n",
    "a = bool(34)\n",
    "b = bool(56)\n",
    "\n",
    "print(a<=b)"
   ]
  },
  {
   "cell_type": "markdown",
   "id": "2db10614",
   "metadata": {},
   "source": [
    "# Equality Operator"
   ]
  },
  {
   "cell_type": "code",
   "execution_count": 17,
   "id": "74c98365",
   "metadata": {},
   "outputs": [
    {
     "name": "stdout",
     "output_type": "stream",
     "text": [
      "True\n"
     ]
    }
   ],
   "source": [
    "# Equate them using equality operators (==)\n",
    "\n",
    "a = bool(34)\n",
    "b = bool(56)\n",
    "\n",
    "print(a==b)"
   ]
  },
  {
   "cell_type": "code",
   "execution_count": 18,
   "id": "204c4a65",
   "metadata": {},
   "outputs": [
    {
     "name": "stdout",
     "output_type": "stream",
     "text": [
      "True\n"
     ]
    }
   ],
   "source": [
    "# Equate them using equality operators (!=)\n",
    "\n",
    "a = bool(34)\n",
    "b = bool(56)\n",
    "\n",
    "print(a==b)"
   ]
  },
  {
   "cell_type": "markdown",
   "id": "7e33fb86",
   "metadata": {},
   "source": [
    "# Logical operators"
   ]
  },
  {
   "cell_type": "code",
   "execution_count": 19,
   "id": "e47afb1a",
   "metadata": {},
   "outputs": [
    {
     "name": "stdout",
     "output_type": "stream",
     "text": [
      "True\n"
     ]
    }
   ],
   "source": [
    "# (True and True)\n",
    "\n",
    "a = bool(72)\n",
    "b = bool(34)\n",
    "\n",
    "print(a and b) # 0 is false and rest all are true"
   ]
  },
  {
   "cell_type": "code",
   "execution_count": 22,
   "id": "1e4e6706",
   "metadata": {},
   "outputs": [
    {
     "name": "stdout",
     "output_type": "stream",
     "text": [
      "False\n"
     ]
    }
   ],
   "source": [
    "# (False and True)\n",
    "\n",
    "a = bool(0)\n",
    "b = bool(72)\n",
    "\n",
    "print(a and b) # 0 is false and rest all are true\n"
   ]
  },
  {
   "cell_type": "code",
   "execution_count": 27,
   "id": "69917234",
   "metadata": {},
   "outputs": [
    {
     "name": "stdout",
     "output_type": "stream",
     "text": [
      "0\n"
     ]
    }
   ],
   "source": [
    "a = 0\n",
    "b = 72\n",
    "\n",
    "print(a*b)"
   ]
  },
  {
   "cell_type": "code",
   "execution_count": 23,
   "id": "23078ad4",
   "metadata": {},
   "outputs": [
    {
     "name": "stdout",
     "output_type": "stream",
     "text": [
      "False\n"
     ]
    }
   ],
   "source": [
    "# (True and False)\n",
    "\n",
    "a = bool(72)\n",
    "b = bool(0)\n",
    "\n",
    "print(a and b) # 0 is false and rest all are true"
   ]
  },
  {
   "cell_type": "code",
   "execution_count": 24,
   "id": "11a5e4eb",
   "metadata": {},
   "outputs": [
    {
     "name": "stdout",
     "output_type": "stream",
     "text": [
      "False\n"
     ]
    }
   ],
   "source": [
    "# (False and False)\n",
    "\n",
    "a = bool(0)\n",
    "b = bool(0)\n",
    "\n",
    "print(a and b) # 0 is false and rest all are true"
   ]
  },
  {
   "cell_type": "code",
   "execution_count": 26,
   "id": "f9cb3937",
   "metadata": {},
   "outputs": [
    {
     "name": "stdout",
     "output_type": "stream",
     "text": [
      "True\n"
     ]
    }
   ],
   "source": [
    "# (True or True)\n",
    "\n",
    "a = bool(22)\n",
    "b = bool(74)\n",
    "\n",
    "print(a or b) "
   ]
  },
  {
   "cell_type": "code",
   "execution_count": 28,
   "id": "d737e866",
   "metadata": {},
   "outputs": [
    {
     "name": "stdout",
     "output_type": "stream",
     "text": [
      "True\n"
     ]
    }
   ],
   "source": [
    "# (false or True)\n",
    "\n",
    "\n",
    "a = bool(0)\n",
    "b = bool(74)\n",
    "\n",
    "print(a or b) "
   ]
  },
  {
   "cell_type": "code",
   "execution_count": 29,
   "id": "1aa4829a",
   "metadata": {},
   "outputs": [
    {
     "name": "stdout",
     "output_type": "stream",
     "text": [
      "True\n"
     ]
    }
   ],
   "source": [
    "# (True or False)\n",
    "\n",
    "a = bool(74)\n",
    "b = bool(0)\n",
    "\n",
    "print(a or b) "
   ]
  },
  {
   "cell_type": "code",
   "execution_count": 30,
   "id": "0ac2fc3c",
   "metadata": {},
   "outputs": [
    {
     "name": "stdout",
     "output_type": "stream",
     "text": [
      "False\n"
     ]
    }
   ],
   "source": [
    "# (flase or False)\n",
    "\n",
    "a = bool(0)\n",
    "b = bool(0)\n",
    "\n",
    "print(a or b) "
   ]
  },
  {
   "cell_type": "markdown",
   "id": "743f41dd",
   "metadata": {},
   "source": [
    "# Bitwise Operators"
   ]
  },
  {
   "cell_type": "code",
   "execution_count": 31,
   "id": "26afeea5",
   "metadata": {},
   "outputs": [
    {
     "name": "stdout",
     "output_type": "stream",
     "text": [
      "True\n"
     ]
    }
   ],
   "source": [
    "# Bitwise and(&)\n",
    "\n",
    "a = bool(56)\n",
    "b = bool(36)\n",
    "\n",
    "print(a & b) "
   ]
  },
  {
   "cell_type": "code",
   "execution_count": 34,
   "id": "3171e99d",
   "metadata": {},
   "outputs": [
    {
     "name": "stdout",
     "output_type": "stream",
     "text": [
      "1\n"
     ]
    }
   ],
   "source": [
    "a = bool(56)\n",
    "b = bool(36)\n",
    "\n",
    "print(a and b) "
   ]
  },
  {
   "cell_type": "code",
   "execution_count": 35,
   "id": "75f6a451",
   "metadata": {
    "scrolled": true
   },
   "outputs": [
    {
     "name": "stdout",
     "output_type": "stream",
     "text": [
      "True\n"
     ]
    }
   ],
   "source": [
    "# Bitwise or(|)\n",
    "\n",
    "a = bool(0)\n",
    "b = bool(36)\n",
    "\n",
    "print(a | b) "
   ]
  },
  {
   "cell_type": "code",
   "execution_count": 36,
   "id": "e70b5f7f",
   "metadata": {},
   "outputs": [
    {
     "name": "stdout",
     "output_type": "stream",
     "text": [
      "36\n"
     ]
    }
   ],
   "source": [
    "a = 0\n",
    "b = 36\n",
    "\n",
    "print(a or b)"
   ]
  },
  {
   "cell_type": "code",
   "execution_count": 37,
   "id": "63c8c8b7",
   "metadata": {},
   "outputs": [
    {
     "name": "stdout",
     "output_type": "stream",
     "text": [
      "True\n"
     ]
    }
   ],
   "source": [
    "# Bitwise(^)\n",
    "\n",
    "a = bool(36)\n",
    "b = bool(0)\n",
    "\n",
    "print(a ^ b) "
   ]
  },
  {
   "cell_type": "code",
   "execution_count": 38,
   "id": "ece15962",
   "metadata": {},
   "outputs": [
    {
     "data": {
      "text/plain": [
       "36"
      ]
     },
     "execution_count": 38,
     "metadata": {},
     "output_type": "execute_result"
    }
   ],
   "source": [
    "a = 36\n",
    "b = 0\n",
    "\n",
    "(a^b) # 0 power anything is 1\n"
   ]
  },
  {
   "cell_type": "code",
   "execution_count": 40,
   "id": "4a25a00b",
   "metadata": {},
   "outputs": [
    {
     "name": "stdout",
     "output_type": "stream",
     "text": [
      "True\n"
     ]
    }
   ],
   "source": [
    "# Bitwise negation(~)\n",
    "\n",
    "a = bool(56)\n",
    "\n",
    "print(bool(~a))"
   ]
  },
  {
   "cell_type": "code",
   "execution_count": 41,
   "id": "67aa0391",
   "metadata": {},
   "outputs": [
    {
     "name": "stdout",
     "output_type": "stream",
     "text": [
      "-2\n"
     ]
    }
   ],
   "source": [
    "a = bool(56)\n",
    "\n",
    "print(~a)\n"
   ]
  },
  {
   "cell_type": "code",
   "execution_count": 43,
   "id": "700ce2b4",
   "metadata": {},
   "outputs": [
    {
     "name": "stdout",
     "output_type": "stream",
     "text": [
      "True\n"
     ]
    }
   ],
   "source": [
    "# Bitwise left shift '<'\n",
    "\n",
    "a = bool(56)\n",
    "\n",
    "print(bool(a << 2))"
   ]
  },
  {
   "cell_type": "code",
   "execution_count": 44,
   "id": "3ea18035",
   "metadata": {},
   "outputs": [
    {
     "name": "stdout",
     "output_type": "stream",
     "text": [
      "4\n"
     ]
    }
   ],
   "source": [
    "# Bitwise left shift '<<'\n",
    "\n",
    "a = bool(56)\n",
    "\n",
    "print(a << 2)"
   ]
  },
  {
   "cell_type": "code",
   "execution_count": 45,
   "id": "45e38e10",
   "metadata": {},
   "outputs": [
    {
     "data": {
      "text/plain": [
       "'0b111000'"
      ]
     },
     "execution_count": 45,
     "metadata": {},
     "output_type": "execute_result"
    }
   ],
   "source": [
    "bin(56)"
   ]
  },
  {
   "cell_type": "code",
   "execution_count": 47,
   "id": "62d27896",
   "metadata": {},
   "outputs": [
    {
     "data": {
      "text/plain": [
       "224"
      ]
     },
     "execution_count": 47,
     "metadata": {},
     "output_type": "execute_result"
    }
   ],
   "source": [
    "int(0b11100000)"
   ]
  },
  {
   "cell_type": "code",
   "execution_count": 48,
   "id": "93a9e10a",
   "metadata": {},
   "outputs": [
    {
     "data": {
      "text/plain": [
       "224"
      ]
     },
     "execution_count": 48,
     "metadata": {},
     "output_type": "execute_result"
    }
   ],
   "source": [
    "56*4\n"
   ]
  },
  {
   "cell_type": "code",
   "execution_count": 49,
   "id": "b2f1a9fc",
   "metadata": {},
   "outputs": [
    {
     "name": "stdout",
     "output_type": "stream",
     "text": [
      "0\n"
     ]
    }
   ],
   "source": [
    "# Bitwise right shift '>>'\n",
    "\n",
    "a = bool(56)\n",
    "\n",
    "print(a >> 2)"
   ]
  },
  {
   "cell_type": "code",
   "execution_count": 53,
   "id": "f58271ec",
   "metadata": {},
   "outputs": [
    {
     "name": "stdout",
     "output_type": "stream",
     "text": [
      "0\n"
     ]
    }
   ],
   "source": [
    "# Bitwise right shift '>>'\n",
    "\n",
    "a = bool(56)\n",
    "\n",
    "print(a >> 2)"
   ]
  },
  {
   "cell_type": "code",
   "execution_count": 56,
   "id": "33053e8d",
   "metadata": {},
   "outputs": [
    {
     "name": "stdout",
     "output_type": "stream",
     "text": [
      "True\n"
     ]
    }
   ],
   "source": [
    "#What is the output of expression inside the print statement. Crosscheck before running the program.\n",
    "\n",
    "a = True\n",
    "b = True\n",
    "\n",
    "print(a is b)"
   ]
  },
  {
   "cell_type": "code",
   "execution_count": 61,
   "id": "4ead0014",
   "metadata": {},
   "outputs": [
    {
     "data": {
      "text/plain": [
       "1"
      ]
     },
     "execution_count": 61,
     "metadata": {},
     "output_type": "execute_result"
    }
   ],
   "source": [
    "a = 1\n",
    "b = 1 \n",
    "(a and b)"
   ]
  },
  {
   "cell_type": "code",
   "execution_count": 62,
   "id": "2a7c5f99",
   "metadata": {},
   "outputs": [
    {
     "name": "stdout",
     "output_type": "stream",
     "text": [
      "False\n"
     ]
    }
   ],
   "source": [
    "# (a is not b)\n",
    "\n",
    "a = True\n",
    "b = True\n",
    "\n",
    "print(a is not b)"
   ]
  },
  {
   "cell_type": "code",
   "execution_count": 65,
   "id": "2232074c",
   "metadata": {},
   "outputs": [
    {
     "data": {
      "text/plain": [
       "False"
      ]
     },
     "execution_count": 65,
     "metadata": {},
     "output_type": "execute_result"
    }
   ],
   "source": [
    "a = 1\n",
    "b = 1 \n",
    "(a is not b)"
   ]
  },
  {
   "cell_type": "code",
   "execution_count": 63,
   "id": "f4978b73",
   "metadata": {},
   "outputs": [
    {
     "name": "stdout",
     "output_type": "stream",
     "text": [
      "True\n"
     ]
    }
   ],
   "source": [
    "a = False\n",
    "b = False\n",
    "print(a is b)"
   ]
  },
  {
   "cell_type": "code",
   "execution_count": 66,
   "id": "887f8c11",
   "metadata": {},
   "outputs": [
    {
     "name": "stdout",
     "output_type": "stream",
     "text": [
      "True\n"
     ]
    }
   ],
   "source": [
    "a = 0\n",
    "b = 0\n",
    "print(a is b)"
   ]
  },
  {
   "cell_type": "code",
   "execution_count": 64,
   "id": "26878939",
   "metadata": {},
   "outputs": [
    {
     "name": "stdout",
     "output_type": "stream",
     "text": [
      "False\n"
     ]
    }
   ],
   "source": [
    "a = False\n",
    "b = False\n",
    "print(a is not b)"
   ]
  },
  {
   "cell_type": "code",
   "execution_count": 67,
   "id": "1dc6d123",
   "metadata": {},
   "outputs": [
    {
     "name": "stdout",
     "output_type": "stream",
     "text": [
      "False\n"
     ]
    }
   ],
   "source": [
    "a = 0\n",
    "b = 0\n",
    "print(a is not b)"
   ]
  },
  {
   "cell_type": "markdown",
   "id": "c91b40f4",
   "metadata": {},
   "source": [
    "# Membership operation"
   ]
  },
  {
   "cell_type": "code",
   "execution_count": 71,
   "id": "9efa728e",
   "metadata": {},
   "outputs": [
    {
     "name": "stdout",
     "output_type": "stream",
     "text": [
      "True\n"
     ]
    }
   ],
   "source": [
    "# [10,10.20,10+20j,'Python', True]\n",
    "\n",
    "a = [10,10.20,10+20j,'python', True]\n",
    "\n",
    "print(True in a)\n",
    "\n"
   ]
  },
  {
   "cell_type": "code",
   "execution_count": 72,
   "id": "3e0adced",
   "metadata": {},
   "outputs": [
    {
     "name": "stdout",
     "output_type": "stream",
     "text": [
      "True\n"
     ]
    }
   ],
   "source": [
    "# (False in (10,10.20,10+20j,'Python', False))\n",
    "\n",
    "a = (10,10.20,10+20j,'Python', False)\n",
    "\n",
    "print(False in a)"
   ]
  },
  {
   "cell_type": "code",
   "execution_count": 73,
   "id": "bd95569d",
   "metadata": {},
   "outputs": [
    {
     "name": "stdout",
     "output_type": "stream",
     "text": [
      "True\n"
     ]
    }
   ],
   "source": [
    "# (True in {1,2,3, True})\n",
    "\n",
    "a = {1,2,3, True}\n",
    "\n",
    "print(True in a)"
   ]
  },
  {
   "cell_type": "code",
   "execution_count": 74,
   "id": "4eb7b285",
   "metadata": {},
   "outputs": [
    {
     "name": "stdout",
     "output_type": "stream",
     "text": [
      "True\n"
     ]
    }
   ],
   "source": [
    "# (True in {True:100, False:200, True:300})\n",
    "\n",
    "a = {True:100, False:200, True:300}\n",
    "\n",
    "print(True in a)"
   ]
  },
  {
   "cell_type": "code",
   "execution_count": 75,
   "id": "558cdace",
   "metadata": {},
   "outputs": [
    {
     "name": "stdout",
     "output_type": "stream",
     "text": [
      "True\n"
     ]
    }
   ],
   "source": [
    "# (False in {True:100, False:200, True:300})\n",
    "\n",
    "a = {True:100, False:200, True:300}\n",
    "\n",
    "print(False in a)"
   ]
  },
  {
   "cell_type": "code",
   "execution_count": null,
   "id": "e06b241b",
   "metadata": {},
   "outputs": [],
   "source": []
  }
 ],
 "metadata": {
  "kernelspec": {
   "display_name": "Python 3 (ipykernel)",
   "language": "python",
   "name": "python3"
  },
  "language_info": {
   "codemirror_mode": {
    "name": "ipython",
    "version": 3
   },
   "file_extension": ".py",
   "mimetype": "text/x-python",
   "name": "python",
   "nbconvert_exporter": "python",
   "pygments_lexer": "ipython3",
   "version": "3.11.5"
  }
 },
 "nbformat": 4,
 "nbformat_minor": 5
}
