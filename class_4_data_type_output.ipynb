{
 "cells": [
  {
   "cell_type": "code",
   "execution_count": 1,
   "id": "968c1dd6",
   "metadata": {},
   "outputs": [
    {
     "data": {
      "text/plain": [
       "False"
      ]
     },
     "execution_count": 1,
     "metadata": {},
     "output_type": "execute_result"
    }
   ],
   "source": [
    "True and False"
   ]
  },
  {
   "cell_type": "code",
   "execution_count": 2,
   "id": "a5c63d42",
   "metadata": {},
   "outputs": [
    {
     "data": {
      "text/plain": [
       "20"
      ]
     },
     "execution_count": 2,
     "metadata": {},
     "output_type": "execute_result"
    }
   ],
   "source": [
    "10 and 20"
   ]
  },
  {
   "cell_type": "code",
   "execution_count": 3,
   "id": "d9f954f5",
   "metadata": {},
   "outputs": [
    {
     "data": {
      "text/plain": [
       "()"
      ]
     },
     "execution_count": 3,
     "metadata": {},
     "output_type": "execute_result"
    }
   ],
   "source": [
    "() and 30"
   ]
  },
  {
   "cell_type": "code",
   "execution_count": 4,
   "id": "d48cad39",
   "metadata": {},
   "outputs": [
    {
     "name": "stdout",
     "output_type": "stream",
     "text": [
      "umar@outlook.com\n",
      "deepa@yahoo.com\n"
     ]
    }
   ],
   "source": [
    "lst = ['suji@gmail.com' , 'umar@outlook.com' , 'deepa@yahoo.com' , 'suma@hotmail.com', 'bharath@gmail.com']\n",
    "\n",
    "for i in lst:\n",
    "     if (i[0] == 'd') or (i[0] =='u'):\n",
    "            print(i)"
   ]
  },
  {
   "cell_type": "code",
   "execution_count": 6,
   "id": "291cf07a",
   "metadata": {},
   "outputs": [
    {
     "name": "stdout",
     "output_type": "stream",
     "text": [
      "32\n",
      "34\n",
      "45\n",
      "67\n",
      "58\n",
      "90\n",
      "67\n"
     ]
    }
   ],
   "source": [
    "a = [32,34,45,0,58,0,67]\n",
    "\n",
    "b = [0,78,90,67,56,90,0]\n",
    "\n",
    "for i in range(len(a)):\n",
    "    print(a[i] or b[i])"
   ]
  },
  {
   "cell_type": "code",
   "execution_count": 7,
   "id": "79ef21aa",
   "metadata": {},
   "outputs": [
    {
     "name": "stdout",
     "output_type": "stream",
     "text": [
      "0\n",
      "78\n",
      "90\n",
      "0\n",
      "56\n",
      "0\n",
      "0\n"
     ]
    }
   ],
   "source": [
    "a = [32,34,45,0,58,0,67]\n",
    "\n",
    "b = [0,78,90,67,56,90,0]\n",
    "\n",
    "for i in range(len(a)):\n",
    "    print(a[i] and b[i])"
   ]
  },
  {
   "cell_type": "code",
   "execution_count": 8,
   "id": "903c78fd",
   "metadata": {},
   "outputs": [
    {
     "name": "stdout",
     "output_type": "stream",
     "text": [
      "Enter your mail ID : xyz@gmail.com\n",
      "Enter your password : python\n",
      "Logged in\n"
     ]
    }
   ],
   "source": [
    "user_name ='xyz@gmail.com'\n",
    "password = 'python'\n",
    "\n",
    "a = input('Enter your mail ID : ')\n",
    "b = input('Enter your password : ')\n",
    "\n",
    "if (a == user_name) and (b == password):\n",
    "    print('Logged in')\n",
    "else:\n",
    "    print('Incorrect Info')"
   ]
  },
  {
   "cell_type": "code",
   "execution_count": 9,
   "id": "ebdc5751",
   "metadata": {},
   "outputs": [
    {
     "name": "stdout",
     "output_type": "stream",
     "text": [
      "Enter your mail ID : suji@gmail.com\n",
      "Enter your password : python\n",
      "Logged in\n"
     ]
    }
   ],
   "source": [
    "user_name ='xyz@gmail.com'\n",
    "password = 'python'\n",
    "\n",
    "a = input('Enter your mail ID : ')\n",
    "b = input('Enter your password : ')\n",
    "\n",
    "if (a == user_name) or (b == password):\n",
    "    print('Logged in')\n",
    "else:\n",
    "    print('Incorrect Info')"
   ]
  },
  {
   "cell_type": "code",
   "execution_count": 10,
   "id": "488aab32",
   "metadata": {},
   "outputs": [
    {
     "data": {
      "text/plain": [
       "40"
      ]
     },
     "execution_count": 10,
     "metadata": {},
     "output_type": "execute_result"
    }
   ],
   "source": [
    "0 or 40"
   ]
  },
  {
   "cell_type": "code",
   "execution_count": 11,
   "id": "f980b1f5",
   "metadata": {},
   "outputs": [
    {
     "data": {
      "text/plain": [
       "40"
      ]
     },
     "execution_count": 11,
     "metadata": {},
     "output_type": "execute_result"
    }
   ],
   "source": [
    "40 or 50"
   ]
  },
  {
   "cell_type": "code",
   "execution_count": 12,
   "id": "0507f8c9",
   "metadata": {},
   "outputs": [
    {
     "data": {
      "text/plain": [
       "40.333333333333336"
      ]
     },
     "execution_count": 12,
     "metadata": {},
     "output_type": "execute_result"
    }
   ],
   "source": [
    "10 /30 + 40"
   ]
  },
  {
   "cell_type": "markdown",
   "id": "64029b4e",
   "metadata": {},
   "source": [
    "# Assignment Operator\n",
    "\n",
    "= "
   ]
  },
  {
   "cell_type": "code",
   "execution_count": 14,
   "id": "bce32d90",
   "metadata": {},
   "outputs": [
    {
     "name": "stdout",
     "output_type": "stream",
     "text": [
      "65\n"
     ]
    }
   ],
   "source": [
    "x = 60\n",
    "\n",
    "# Add 5 to the existiong value of x and re assign it\n",
    "\n",
    "x +=5\n",
    "\n",
    "print(x)"
   ]
  },
  {
   "cell_type": "code",
   "execution_count": 19,
   "id": "d8c58ab9",
   "metadata": {},
   "outputs": [
    {
     "name": "stdout",
     "output_type": "stream",
     "text": [
      "50\n"
     ]
    }
   ],
   "source": [
    "x = 45\n",
    "\n",
    "# Add 5 to the existiong value of x and re assign it\n",
    "\n",
    "x = x+5\n",
    "\n",
    "print(x)"
   ]
  },
  {
   "cell_type": "code",
   "execution_count": 15,
   "id": "0f4302d6",
   "metadata": {},
   "outputs": [
    {
     "name": "stdout",
     "output_type": "stream",
     "text": [
      "40\n"
     ]
    }
   ],
   "source": [
    "x = 45\n",
    "\n",
    "# Add 5 to the existiong value of x and re assign it\n",
    "\n",
    "x -=5\n",
    "\n",
    "print(x)"
   ]
  },
  {
   "cell_type": "code",
   "execution_count": 20,
   "id": "64579674",
   "metadata": {},
   "outputs": [
    {
     "name": "stdout",
     "output_type": "stream",
     "text": [
      "4.0\n"
     ]
    }
   ],
   "source": [
    "x = 20\n",
    "\n",
    "x /= 5\n",
    "\n",
    "print(x)"
   ]
  },
  {
   "cell_type": "code",
   "execution_count": 22,
   "id": "81473b27",
   "metadata": {},
   "outputs": [
    {
     "name": "stdout",
     "output_type": "stream",
     "text": [
      "20\n"
     ]
    }
   ],
   "source": [
    "a = 10\n",
    "b = 20\n",
    "\n",
    "print(a and b)"
   ]
  },
  {
   "cell_type": "code",
   "execution_count": null,
   "id": "492f8bae",
   "metadata": {},
   "outputs": [],
   "source": [
    "#bitwise operators\n",
    "\n",
    "- bitwise and &\n",
    "-bitwise or "
   ]
  },
  {
   "cell_type": "code",
   "execution_count": 23,
   "id": "8043d1e3",
   "metadata": {},
   "outputs": [
    {
     "name": "stdout",
     "output_type": "stream",
     "text": [
      "0\n"
     ]
    }
   ],
   "source": [
    "a = 10\n",
    "b = 20\n",
    "\n",
    "print(a & b)"
   ]
  },
  {
   "cell_type": "code",
   "execution_count": 25,
   "id": "599bbc96",
   "metadata": {},
   "outputs": [
    {
     "data": {
      "text/plain": [
       "'0b101100'"
      ]
     },
     "execution_count": 25,
     "metadata": {},
     "output_type": "execute_result"
    }
   ],
   "source": [
    "bin(44)"
   ]
  },
  {
   "cell_type": "code",
   "execution_count": 24,
   "id": "e38ede0c",
   "metadata": {},
   "outputs": [
    {
     "data": {
      "text/plain": [
       "'0b110111'"
      ]
     },
     "execution_count": 24,
     "metadata": {},
     "output_type": "execute_result"
    }
   ],
   "source": [
    "bin(55)\n"
   ]
  },
  {
   "cell_type": "code",
   "execution_count": 26,
   "id": "5d950329",
   "metadata": {},
   "outputs": [
    {
     "name": "stdout",
     "output_type": "stream",
     "text": [
      "36\n"
     ]
    }
   ],
   "source": [
    "a = 55\n",
    "b = 44\n",
    "\n",
    "print(a & b)"
   ]
  },
  {
   "cell_type": "code",
   "execution_count": null,
   "id": "f70d19b4",
   "metadata": {},
   "outputs": [],
   "source": [
    "55 --> 1 1 0 1 1 1\n",
    "44 --> 1 0 1 1 0 0\n",
    "\n",
    "       1 0 0 1 0 0\n",
    "    "
   ]
  },
  {
   "cell_type": "code",
   "execution_count": 28,
   "id": "1f6120bb",
   "metadata": {},
   "outputs": [
    {
     "data": {
      "text/plain": [
       "36"
      ]
     },
     "execution_count": 28,
     "metadata": {},
     "output_type": "execute_result"
    }
   ],
   "source": [
    "int(0b100100)"
   ]
  },
  {
   "cell_type": "code",
   "execution_count": 29,
   "id": "29cf50f4",
   "metadata": {},
   "outputs": [
    {
     "name": "stdout",
     "output_type": "stream",
     "text": [
      "0\n"
     ]
    }
   ],
   "source": [
    "a = 10\n",
    "b = 4\n",
    "\n",
    "print(a & b)\n",
    "\n"
   ]
  },
  {
   "cell_type": "code",
   "execution_count": 30,
   "id": "6acbe985",
   "metadata": {},
   "outputs": [
    {
     "data": {
      "text/plain": [
       "'0b1010'"
      ]
     },
     "execution_count": 30,
     "metadata": {},
     "output_type": "execute_result"
    }
   ],
   "source": [
    "bin(10)\n"
   ]
  },
  {
   "cell_type": "code",
   "execution_count": 31,
   "id": "39930ebb",
   "metadata": {},
   "outputs": [
    {
     "data": {
      "text/plain": [
       "'0b100'"
      ]
     },
     "execution_count": 31,
     "metadata": {},
     "output_type": "execute_result"
    }
   ],
   "source": [
    "bin(4)"
   ]
  },
  {
   "cell_type": "code",
   "execution_count": null,
   "id": "366afe20",
   "metadata": {},
   "outputs": [],
   "source": [
    "1  0  1  0\n",
    "0  1  0  0\n",
    "0  0  0  0"
   ]
  },
  {
   "cell_type": "code",
   "execution_count": 32,
   "id": "75e0e644",
   "metadata": {},
   "outputs": [
    {
     "data": {
      "text/plain": [
       "0"
      ]
     },
     "execution_count": 32,
     "metadata": {},
     "output_type": "execute_result"
    }
   ],
   "source": [
    "int(0b0)"
   ]
  },
  {
   "cell_type": "code",
   "execution_count": 33,
   "id": "c9bd3001",
   "metadata": {},
   "outputs": [
    {
     "name": "stdout",
     "output_type": "stream",
     "text": [
      "27\n"
     ]
    }
   ],
   "source": [
    "a = 55\n",
    "b = 44\n",
    "\n",
    "print(a ^ b) "
   ]
  },
  {
   "cell_type": "code",
   "execution_count": null,
   "id": "8a5688ac",
   "metadata": {},
   "outputs": [],
   "source": [
    "#bitwise left shift <<\n",
    "A* (2**n)"
   ]
  },
  {
   "cell_type": "code",
   "execution_count": 34,
   "id": "97907ee5",
   "metadata": {},
   "outputs": [
    {
     "name": "stdout",
     "output_type": "stream",
     "text": [
      "616\n"
     ]
    }
   ],
   "source": [
    "x = 77\n",
    "\n",
    "print(x << 3)"
   ]
  },
  {
   "cell_type": "code",
   "execution_count": 35,
   "id": "d9d880bc",
   "metadata": {},
   "outputs": [
    {
     "data": {
      "text/plain": [
       "616"
      ]
     },
     "execution_count": 35,
     "metadata": {},
     "output_type": "execute_result"
    }
   ],
   "source": [
    "77 *8\n"
   ]
  },
  {
   "cell_type": "code",
   "execution_count": 36,
   "id": "4ff5a0c3",
   "metadata": {},
   "outputs": [
    {
     "data": {
      "text/plain": [
       "'0b1001101'"
      ]
     },
     "execution_count": 36,
     "metadata": {},
     "output_type": "execute_result"
    }
   ],
   "source": [
    "bin(77)\n"
   ]
  },
  {
   "cell_type": "code",
   "execution_count": 37,
   "id": "148f6ebe",
   "metadata": {},
   "outputs": [
    {
     "data": {
      "text/plain": [
       "1232"
      ]
     },
     "execution_count": 37,
     "metadata": {},
     "output_type": "execute_result"
    }
   ],
   "source": [
    "int(0b10011010000)"
   ]
  },
  {
   "cell_type": "code",
   "execution_count": 38,
   "id": "977c4685",
   "metadata": {},
   "outputs": [
    {
     "data": {
      "text/plain": [
       "'0b111000'"
      ]
     },
     "execution_count": 38,
     "metadata": {},
     "output_type": "execute_result"
    }
   ],
   "source": [
    "bin(56)"
   ]
  },
  {
   "cell_type": "code",
   "execution_count": 39,
   "id": "e8ccbf4e",
   "metadata": {},
   "outputs": [
    {
     "data": {
      "text/plain": [
       "448"
      ]
     },
     "execution_count": 39,
     "metadata": {},
     "output_type": "execute_result"
    }
   ],
   "source": [
    "int(0b111000000)"
   ]
  },
  {
   "cell_type": "code",
   "execution_count": null,
   "id": "c398be3c",
   "metadata": {},
   "outputs": [],
   "source": [
    "## bitwise right shift >>\n",
    "\n",
    "A // (2**n)"
   ]
  },
  {
   "cell_type": "code",
   "execution_count": 40,
   "id": "713fb4a0",
   "metadata": {},
   "outputs": [
    {
     "name": "stdout",
     "output_type": "stream",
     "text": [
      "14\n"
     ]
    }
   ],
   "source": [
    "x = 56\n",
    "\n",
    "print(x >> 2)"
   ]
  },
  {
   "cell_type": "code",
   "execution_count": 41,
   "id": "6ed90e27",
   "metadata": {},
   "outputs": [
    {
     "data": {
      "text/plain": [
       "14"
      ]
     },
     "execution_count": 41,
     "metadata": {},
     "output_type": "execute_result"
    }
   ],
   "source": [
    "56//4"
   ]
  },
  {
   "cell_type": "code",
   "execution_count": 42,
   "id": "6949b07e",
   "metadata": {},
   "outputs": [
    {
     "data": {
      "text/plain": [
       "'0b111000'"
      ]
     },
     "execution_count": 42,
     "metadata": {},
     "output_type": "execute_result"
    }
   ],
   "source": [
    "bin(56)"
   ]
  },
  {
   "cell_type": "code",
   "execution_count": 44,
   "id": "860fcbe8",
   "metadata": {},
   "outputs": [
    {
     "data": {
      "text/plain": [
       "14"
      ]
     },
     "execution_count": 44,
     "metadata": {},
     "output_type": "execute_result"
    }
   ],
   "source": [
    "int(0b001110)"
   ]
  },
  {
   "cell_type": "code",
   "execution_count": 45,
   "id": "a58f6fd2",
   "metadata": {},
   "outputs": [
    {
     "data": {
      "text/plain": [
       "'0b1001101'"
      ]
     },
     "execution_count": 45,
     "metadata": {},
     "output_type": "execute_result"
    }
   ],
   "source": [
    "bin(77)"
   ]
  },
  {
   "cell_type": "code",
   "execution_count": 46,
   "id": "15468339",
   "metadata": {},
   "outputs": [
    {
     "data": {
      "text/plain": [
       "4"
      ]
     },
     "execution_count": 46,
     "metadata": {},
     "output_type": "execute_result"
    }
   ],
   "source": [
    "int(0b0000100)"
   ]
  },
  {
   "cell_type": "code",
   "execution_count": null,
   "id": "d3236fe5",
   "metadata": {},
   "outputs": [],
   "source": [
    "# bitwise not\n",
    "\n",
    "adds to the existing\n",
    "convert it sign\n"
   ]
  },
  {
   "cell_type": "code",
   "execution_count": 47,
   "id": "f0a082c2",
   "metadata": {},
   "outputs": [
    {
     "name": "stdout",
     "output_type": "stream",
     "text": [
      "-66\n"
     ]
    }
   ],
   "source": [
    "x = 66\n",
    "\n",
    "print(-x)"
   ]
  },
  {
   "cell_type": "code",
   "execution_count": 50,
   "id": "9a6981a8",
   "metadata": {},
   "outputs": [
    {
     "name": "stdout",
     "output_type": "stream",
     "text": [
      "98\n"
     ]
    }
   ],
   "source": [
    "x = -99\n",
    "\n",
    "print(~x)"
   ]
  },
  {
   "cell_type": "code",
   "execution_count": 55,
   "id": "55b2cfb2",
   "metadata": {},
   "outputs": [
    {
     "name": "stdout",
     "output_type": "stream",
     "text": [
      "50\n"
     ]
    }
   ],
   "source": [
    "x = 45\n",
    "\n",
    "x =x+5\n",
    "print(x)"
   ]
  },
  {
   "cell_type": "code",
   "execution_count": 51,
   "id": "58ab2dea",
   "metadata": {},
   "outputs": [
    {
     "name": "stdout",
     "output_type": "stream",
     "text": [
      "1\n"
     ]
    }
   ],
   "source": [
    "a = -11\n",
    "b = 3\n",
    "\n",
    "print(a % b)"
   ]
  },
  {
   "cell_type": "code",
   "execution_count": null,
   "id": "cd0aed42",
   "metadata": {},
   "outputs": [],
   "source": []
  }
 ],
 "metadata": {
  "kernelspec": {
   "display_name": "Python 3 (ipykernel)",
   "language": "python",
   "name": "python3"
  },
  "language_info": {
   "codemirror_mode": {
    "name": "ipython",
    "version": 3
   },
   "file_extension": ".py",
   "mimetype": "text/x-python",
   "name": "python",
   "nbconvert_exporter": "python",
   "pygments_lexer": "ipython3",
   "version": "3.11.5"
  }
 },
 "nbformat": 4,
 "nbformat_minor": 5
}
