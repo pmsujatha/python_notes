{
 "cells": [
  {
   "cell_type": "code",
   "execution_count": 2,
   "id": "79e38f48",
   "metadata": {},
   "outputs": [
    {
     "name": "stdout",
     "output_type": "stream",
     "text": [
      "99.0 <class 'float'>\n"
     ]
    }
   ],
   "source": [
    "# 2 nd method\n",
    "\n",
    "a = 99\n",
    "\n",
    "print(float(a), type(float(a)))"
   ]
  },
  {
   "cell_type": "code",
   "execution_count": 3,
   "id": "ad6dd4c2",
   "metadata": {},
   "outputs": [
    {
     "name": "stdout",
     "output_type": "stream",
     "text": [
      "123 <class 'int'>\n"
     ]
    }
   ],
   "source": [
    "a = int(123.897)\n",
    "\n",
    "print(a, type(a))"
   ]
  },
  {
   "cell_type": "code",
   "execution_count": 4,
   "id": "535fdd7d",
   "metadata": {},
   "outputs": [
    {
     "name": "stdout",
     "output_type": "stream",
     "text": [
      "124 <class 'int'>\n"
     ]
    }
   ],
   "source": [
    "a = round(123.897)\n",
    "\n",
    "print(a, type(a))"
   ]
  },
  {
   "cell_type": "code",
   "execution_count": 5,
   "id": "49ae6c47",
   "metadata": {},
   "outputs": [
    {
     "name": "stdout",
     "output_type": "stream",
     "text": [
      "99 <class 'int'>\n"
     ]
    }
   ],
   "source": [
    "a = int(99.9999)\n",
    "\n",
    "print(a, type(a))"
   ]
  },
  {
   "cell_type": "code",
   "execution_count": 6,
   "id": "fd26381b",
   "metadata": {},
   "outputs": [
    {
     "name": "stdout",
     "output_type": "stream",
     "text": [
      "100 <class 'int'>\n"
     ]
    }
   ],
   "source": [
    "a = round(99.9999)\n",
    "\n",
    "print(a, type(a))"
   ]
  },
  {
   "cell_type": "code",
   "execution_count": 7,
   "id": "da83b89c",
   "metadata": {},
   "outputs": [
    {
     "name": "stdout",
     "output_type": "stream",
     "text": [
      "(99+0j) <class 'complex'>\n"
     ]
    }
   ],
   "source": [
    "a = complex(99)\n",
    "\n",
    "\n",
    "print(a, type(a))"
   ]
  },
  {
   "cell_type": "code",
   "execution_count": 8,
   "id": "ddcca562",
   "metadata": {},
   "outputs": [
    {
     "name": "stdout",
     "output_type": "stream",
     "text": [
      "(99.98+0j) <class 'complex'>\n"
     ]
    }
   ],
   "source": [
    "a = complex(99.98)\n",
    "\n",
    "\n",
    "print(a, type(a))"
   ]
  },
  {
   "cell_type": "code",
   "execution_count": 9,
   "id": "04f1d447",
   "metadata": {},
   "outputs": [
    {
     "ename": "TypeError",
     "evalue": "int() argument must be a string, a bytes-like object or a real number, not 'complex'",
     "output_type": "error",
     "traceback": [
      "\u001b[1;31m---------------------------------------------------------------------------\u001b[0m",
      "\u001b[1;31mTypeError\u001b[0m                                 Traceback (most recent call last)",
      "Cell \u001b[1;32mIn[9], line 1\u001b[0m\n\u001b[1;32m----> 1\u001b[0m a \u001b[38;5;241m=\u001b[39m \u001b[38;5;28mint\u001b[39m(\u001b[38;5;241m99.98\u001b[39m\u001b[38;5;241m+\u001b[39m\u001b[38;5;241m4\u001b[39mj)\n\u001b[0;32m      4\u001b[0m \u001b[38;5;28mprint\u001b[39m(a, \u001b[38;5;28mtype\u001b[39m(a))\n",
      "\u001b[1;31mTypeError\u001b[0m: int() argument must be a string, a bytes-like object or a real number, not 'complex'"
     ]
    }
   ],
   "source": [
    "a = int(99.98+4j)\n",
    "\n",
    "\n",
    "print(a, type(a))"
   ]
  },
  {
   "cell_type": "code",
   "execution_count": 10,
   "id": "008d6273",
   "metadata": {},
   "outputs": [
    {
     "name": "stdout",
     "output_type": "stream",
     "text": [
      "True <class 'bool'>\n"
     ]
    }
   ],
   "source": [
    "a = bool(55)\n",
    "\n",
    "\n",
    "print(a, type(a))"
   ]
  },
  {
   "cell_type": "code",
   "execution_count": null,
   "id": "f75e1b6d",
   "metadata": {},
   "outputs": [],
   "source": [
    "- int --> 0 is false and rest all are true\n",
    "- float --> 0.0 is false and rest all are true\n",
    "- complex --> 0+0j is false and rest all are true\n",
    "- string - ''false and rest all are true\n",
    "- None - always false\n",
    "[] {} () always false\n"
   ]
  },
  {
   "cell_type": "code",
   "execution_count": 11,
   "id": "90d0e121",
   "metadata": {},
   "outputs": [
    {
     "name": "stdout",
     "output_type": "stream",
     "text": [
      "False <class 'bool'>\n"
     ]
    }
   ],
   "source": [
    "a = bool(0+0j)\n",
    "\n",
    "\n",
    "print(a, type(a))"
   ]
  },
  {
   "cell_type": "code",
   "execution_count": 12,
   "id": "c5e702ab",
   "metadata": {},
   "outputs": [
    {
     "name": "stdout",
     "output_type": "stream",
     "text": [
      "False <class 'bool'>\n"
     ]
    }
   ],
   "source": [
    "a = bool('')\n",
    "\n",
    "\n",
    "print(a, type(a))"
   ]
  },
  {
   "cell_type": "code",
   "execution_count": 14,
   "id": "aba4a88c",
   "metadata": {},
   "outputs": [
    {
     "name": "stdout",
     "output_type": "stream",
     "text": [
      "False <class 'bool'>\n"
     ]
    }
   ],
   "source": [
    "a = bool(None)\n",
    "\n",
    "\n",
    "print(a, type(a))"
   ]
  },
  {
   "cell_type": "code",
   "execution_count": 17,
   "id": "fb8d8779",
   "metadata": {},
   "outputs": [
    {
     "ename": "SyntaxError",
     "evalue": "unterminated string literal (detected at line 6) (4003966495.py, line 6)",
     "output_type": "error",
     "traceback": [
      "\u001b[1;36m  Cell \u001b[1;32mIn[17], line 6\u001b[1;36m\u001b[0m\n\u001b[1;33m    if i.endswith(gmail.com'):\u001b[0m\n\u001b[1;37m                           ^\u001b[0m\n\u001b[1;31mSyntaxError\u001b[0m\u001b[1;31m:\u001b[0m unterminated string literal (detected at line 6)\n"
     ]
    }
   ],
   "source": [
    "lst = ['salahdin@gmail.com' , 'chandan@hotmail.com' , 'sujatha@outlook.com' , 'priya@reddif.com'\n",
    "    ]\n",
    "e_list = []\n",
    "\n",
    "for i in lst:\n",
    "    if i.endswith(gmail.com'):\n",
    "       e_list.append(i)\n",
    "else:\n",
    "   if bool(e_list):\n",
    "     print('gmail IDs found : ' , e_list)\n",
    "    "
   ]
  },
  {
   "cell_type": "code",
   "execution_count": 18,
   "id": "054f23e2",
   "metadata": {},
   "outputs": [
    {
     "name": "stdout",
     "output_type": "stream",
     "text": [
      "123 <class 'str'>\n"
     ]
    }
   ],
   "source": [
    "a = '123'\n",
    "\n",
    "print(a , type(a))"
   ]
  },
  {
   "cell_type": "code",
   "execution_count": 19,
   "id": "f982b48f",
   "metadata": {},
   "outputs": [
    {
     "ename": "ValueError",
     "evalue": "invalid literal for int() with base 10: '123abc'",
     "output_type": "error",
     "traceback": [
      "\u001b[1;31m---------------------------------------------------------------------------\u001b[0m",
      "\u001b[1;31mValueError\u001b[0m                                Traceback (most recent call last)",
      "Cell \u001b[1;32mIn[19], line 1\u001b[0m\n\u001b[1;32m----> 1\u001b[0m a \u001b[38;5;241m=\u001b[39m \u001b[38;5;28mint\u001b[39m(\u001b[38;5;124m'\u001b[39m\u001b[38;5;124m123abc\u001b[39m\u001b[38;5;124m'\u001b[39m)\n\u001b[0;32m      4\u001b[0m \u001b[38;5;28mprint\u001b[39m(a , \u001b[38;5;28mtype\u001b[39m(a))\n",
      "\u001b[1;31mValueError\u001b[0m: invalid literal for int() with base 10: '123abc'"
     ]
    }
   ],
   "source": [
    "a = int('123abc')\n",
    "\n",
    "\n",
    "print(a , type(a))"
   ]
  },
  {
   "cell_type": "code",
   "execution_count": 20,
   "id": "201ed8f7",
   "metadata": {},
   "outputs": [
    {
     "ename": "ValueError",
     "evalue": "invalid literal for int() with base 10: '123.67'",
     "output_type": "error",
     "traceback": [
      "\u001b[1;31m---------------------------------------------------------------------------\u001b[0m",
      "\u001b[1;31mValueError\u001b[0m                                Traceback (most recent call last)",
      "Cell \u001b[1;32mIn[20], line 1\u001b[0m\n\u001b[1;32m----> 1\u001b[0m a \u001b[38;5;241m=\u001b[39m \u001b[38;5;28mint\u001b[39m(\u001b[38;5;124m'\u001b[39m\u001b[38;5;124m123.67\u001b[39m\u001b[38;5;124m'\u001b[39m)\n\u001b[0;32m      4\u001b[0m \u001b[38;5;28mprint\u001b[39m(a , \u001b[38;5;28mtype\u001b[39m(a))\n",
      "\u001b[1;31mValueError\u001b[0m: invalid literal for int() with base 10: '123.67'"
     ]
    }
   ],
   "source": [
    "a = int('123.67')\n",
    "\n",
    "\n",
    "print(a , type(a))"
   ]
  },
  {
   "cell_type": "code",
   "execution_count": 21,
   "id": "b9d314c7",
   "metadata": {},
   "outputs": [
    {
     "name": "stdout",
     "output_type": "stream",
     "text": [
      "123.67 <class 'float'>\n"
     ]
    }
   ],
   "source": [
    "a = float('123.67')\n",
    "\n",
    "\n",
    "print(a , type(a))"
   ]
  },
  {
   "cell_type": "code",
   "execution_count": 22,
   "id": "0e580a1f",
   "metadata": {},
   "outputs": [
    {
     "name": "stdout",
     "output_type": "stream",
     "text": [
      "123 <class 'int'>\n"
     ]
    }
   ],
   "source": [
    "a =int(float('123.8888'))\n",
    "\n",
    "\n",
    "print(a , type(a))"
   ]
  },
  {
   "cell_type": "markdown",
   "id": "7567c607",
   "metadata": {},
   "source": [
    "# Eval\n"
   ]
  },
  {
   "cell_type": "code",
   "execution_count": 25,
   "id": "7c0b31f2",
   "metadata": {},
   "outputs": [
    {
     "name": "stdout",
     "output_type": "stream",
     "text": [
      "123.67 <class 'float'>\n"
     ]
    }
   ],
   "source": [
    "a = float('123.67')\n",
    "\n",
    "\n",
    "print(a , type(a))"
   ]
  },
  {
   "cell_type": "code",
   "execution_count": 26,
   "id": "a3dca1b0",
   "metadata": {},
   "outputs": [
    {
     "name": "stdout",
     "output_type": "stream",
     "text": [
      "1234 <class 'int'>\n"
     ]
    }
   ],
   "source": [
    "a = eval('1234')\n",
    "print(a , type(a))"
   ]
  },
  {
   "cell_type": "code",
   "execution_count": 28,
   "id": "a8e83b17",
   "metadata": {},
   "outputs": [
    {
     "name": "stdout",
     "output_type": "stream",
     "text": [
      "[1234.567, 54, 67, 89] <class 'list'>\n"
     ]
    }
   ],
   "source": [
    "a = eval('[1234.567,54,67,89]')\n",
    "print(a , type(a))"
   ]
  },
  {
   "cell_type": "markdown",
   "id": "6a868cd6",
   "metadata": {},
   "source": [
    "# input function\n",
    "- which allows the user to input any values\n",
    "- the input will always be in s form of string"
   ]
  },
  {
   "cell_type": "code",
   "execution_count": null,
   "id": "d6a333c5",
   "metadata": {},
   "outputs": [],
   "source": [
    "a = input('Enter a value :')\n",
    "print(a , type(a))"
   ]
  },
  {
   "cell_type": "code",
   "execution_count": 1,
   "id": "3e211ace",
   "metadata": {},
   "outputs": [
    {
     "data": {
      "text/plain": [
       "'1020'"
      ]
     },
     "execution_count": 1,
     "metadata": {},
     "output_type": "execute_result"
    }
   ],
   "source": [
    "'10' + '20'"
   ]
  },
  {
   "cell_type": "code",
   "execution_count": 8,
   "id": "b971e30b",
   "metadata": {},
   "outputs": [
    {
     "name": "stdout",
     "output_type": "stream",
     "text": [
      "Enter a value :90\n",
      "Enter b value :89\n",
      "9089\n"
     ]
    }
   ],
   "source": [
    "a = input('Enter a value :')\n",
    "b = input ('Enter b value :')\n",
    "\n",
    "\n",
    "print((a+b))"
   ]
  },
  {
   "cell_type": "code",
   "execution_count": 9,
   "id": "cddef98a",
   "metadata": {},
   "outputs": [
    {
     "name": "stdout",
     "output_type": "stream",
     "text": [
      "Enter a value :45\n",
      "Enter b value :67\n",
      "112\n"
     ]
    }
   ],
   "source": [
    "a = eval(input('Enter a value :'))\n",
    "b =eval(input ('Enter b value :'))\n",
    "\n",
    "\n",
    "print((a+b))"
   ]
  },
  {
   "cell_type": "code",
   "execution_count": 15,
   "id": "119c3067",
   "metadata": {},
   "outputs": [
    {
     "name": "stdout",
     "output_type": "stream",
     "text": [
      "enter mobile no :855964261856\n",
      "+91-855964261856\n"
     ]
    }
   ],
   "source": [
    "a = int(input(\"enter mobile no :\"))\n",
    "print(\"+91-\"+str(a))"
   ]
  },
  {
   "cell_type": "code",
   "execution_count": 3,
   "id": "ce8555c2",
   "metadata": {},
   "outputs": [
    {
     "name": "stdout",
     "output_type": "stream",
     "text": [
      "first name :suji\n",
      "enter the mobile number :54778980\n",
      "first name is suji and enter the mobile number 54778980\n"
     ]
    }
   ],
   "source": [
    "a = input('first name :')\n",
    "b =int(input('enter the mobile number :'))\n",
    "\n",
    "c = 'first name is {} and enter the mobile number {}'.format(a,b)\n",
    "print (c)"
   ]
  },
  {
   "cell_type": "code",
   "execution_count": 6,
   "id": "be071109",
   "metadata": {},
   "outputs": [
    {
     "name": "stdout",
     "output_type": "stream",
     "text": [
      "Enter a value :78\n",
      "Enter b value :90\n",
      "{'my addition of 2 numbers 78 and 90 =168'}\n"
     ]
    }
   ],
   "source": [
    "a = eval(input('Enter a value :'))\n",
    "b =eval(input ('Enter b value :'))\n",
    "c=a+b\n",
    "c = {f'my addition of 2 numbers {a} and {b} ={c}'}\n",
    "print((c))"
   ]
  },
  {
   "cell_type": "code",
   "execution_count": null,
   "id": "4d0b552b",
   "metadata": {},
   "outputs": [],
   "source": []
  }
 ],
 "metadata": {
  "kernelspec": {
   "display_name": "Python 3 (ipykernel)",
   "language": "python",
   "name": "python3"
  },
  "language_info": {
   "codemirror_mode": {
    "name": "ipython",
    "version": 3
   },
   "file_extension": ".py",
   "mimetype": "text/x-python",
   "name": "python",
   "nbconvert_exporter": "python",
   "pygments_lexer": "ipython3",
   "version": "3.11.5"
  }
 },
 "nbformat": 4,
 "nbformat_minor": 5
}
