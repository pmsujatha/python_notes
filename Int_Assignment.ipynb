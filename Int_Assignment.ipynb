{
 "cells": [
  {
   "cell_type": "markdown",
   "id": "4d6271e9",
   "metadata": {},
   "source": [
    "# Int Assignment  "
   ]
  },
  {
   "cell_type": "code",
   "execution_count": null,
   "id": "81018efb",
   "metadata": {},
   "outputs": [],
   "source": [
    "#  Check the type and print the id of the same.1 Declare value and variable type and Id"
   ]
  },
  {
   "cell_type": "code",
   "execution_count": 2,
   "id": "7dba1b47",
   "metadata": {},
   "outputs": [
    {
     "name": "stdout",
     "output_type": "stream",
     "text": [
      "10 <class 'int'>\n",
      "30 <class 'int'>\n"
     ]
    }
   ],
   "source": [
    "a = 10\n",
    "b = 30  \n",
    "\n",
    "print(a, type(a))\n",
    "print(b, type(b))"
   ]
  },
  {
   "cell_type": "code",
   "execution_count": null,
   "id": "853ec94b",
   "metadata": {},
   "outputs": [],
   "source": [
    "# Take one int value between 0 - 256.\n",
    "# Assign it to two different variables.\n",
    "# Check the id of both the variables. It should come the same. Check why?"
   ]
  },
  {
   "cell_type": "code",
   "execution_count": 7,
   "id": "50f371d7",
   "metadata": {},
   "outputs": [
    {
     "name": "stdout",
     "output_type": "stream",
     "text": [
      "140713336549896\n",
      "140713336549896\n",
      "True\n"
     ]
    }
   ],
   "source": [
    "a = 248\n",
    "b = 248\n",
    "\n",
    "print(id(a))\n",
    "print(id(b))\n",
    "\n",
    "print(a is b) # identity values is (0 - 256 python as taken default value)"
   ]
  },
  {
   "cell_type": "code",
   "execution_count": null,
   "id": "27436721",
   "metadata": {},
   "outputs": [],
   "source": [
    "# Take one int value either less than -5 or greater than 256.\n",
    "# Assign it to two different variables.\n",
    "# Check the id of both the variables. It should come different.Check why?"
   ]
  },
  {
   "cell_type": "code",
   "execution_count": 8,
   "id": "c9caf4ca",
   "metadata": {},
   "outputs": [
    {
     "name": "stdout",
     "output_type": "stream",
     "text": [
      "140713336541832\n",
      "2116910225104\n",
      "False\n"
     ]
    }
   ],
   "source": [
    "a = -6\n",
    "b = 290\n",
    "\n",
    "print(id(a))\n",
    "print(id(b))\n",
    "\n",
    "print(a is b) (greater the 256 the id value is changed)"
   ]
  },
  {
   "cell_type": "markdown",
   "id": "48cbd528",
   "metadata": {},
   "source": [
    "Q. Arithmetic Operations on integers\n",
    "Take two different integer values.\n",
    "Store them in two different variables.\n",
    "Do below operations on them:-\n",
    "\n",
    "\n"
   ]
  },
  {
   "cell_type": "code",
   "execution_count": 10,
   "id": "9c1a9de9",
   "metadata": {},
   "outputs": [
    {
     "name": "stdout",
     "output_type": "stream",
     "text": [
      "120\n"
     ]
    }
   ],
   "source": [
    "# Find sum of both numbers\n",
    "\n",
    "a = 40\n",
    "b = 80\n",
    "\n",
    "print(a+b)"
   ]
  },
  {
   "cell_type": "code",
   "execution_count": 11,
   "id": "40a85de4",
   "metadata": {},
   "outputs": [
    {
     "name": "stdout",
     "output_type": "stream",
     "text": [
      "20\n"
     ]
    }
   ],
   "source": [
    "# Find difference between them\n",
    "\n",
    "a = 90\n",
    "b = 70\n",
    "\n",
    "print(a-b)"
   ]
  },
  {
   "cell_type": "code",
   "execution_count": 12,
   "id": "1454ab47",
   "metadata": {},
   "outputs": [
    {
     "name": "stdout",
     "output_type": "stream",
     "text": [
      "4424\n"
     ]
    }
   ],
   "source": [
    "# Find the product of both numbers.\n",
    "\n",
    "a = 79\n",
    "b = 56\n",
    "\n",
    "print(a*b)"
   ]
  },
  {
   "cell_type": "code",
   "execution_count": 15,
   "id": "ac61707e",
   "metadata": {},
   "outputs": [
    {
     "name": "stdout",
     "output_type": "stream",
     "text": [
      "2.25\n"
     ]
    }
   ],
   "source": [
    "# Find value after dividing first num with second number\n",
    "\n",
    "a = 9\n",
    "b = 4 \n",
    "\n",
    "print(a/b)"
   ]
  },
  {
   "cell_type": "code",
   "execution_count": 2,
   "id": "7324653c",
   "metadata": {},
   "outputs": [
    {
     "name": "stdout",
     "output_type": "stream",
     "text": [
      "1\n"
     ]
    }
   ],
   "source": [
    "# Find the remainder after dividing first number with second number\n",
    "\n",
    "a = 9\n",
    "b = 4\n",
    "\n",
    "print(a % b)"
   ]
  },
  {
   "cell_type": "code",
   "execution_count": 3,
   "id": "c4d0c1f8",
   "metadata": {},
   "outputs": [
    {
     "name": "stdout",
     "output_type": "stream",
     "text": [
      "This is value:2\n"
     ]
    }
   ],
   "source": [
    "# Find the quotient after dividing first number with second number\n",
    "\n",
    "a = 9\n",
    "b = 4\n",
    "\n",
    "c = a // b\n",
    "\n",
    "print('This is value:' + str(c))"
   ]
  },
  {
   "cell_type": "code",
   "execution_count": 22,
   "id": "819f0fb9",
   "metadata": {},
   "outputs": [
    {
     "name": "stdout",
     "output_type": "stream",
     "text": [
      "1296\n"
     ]
    }
   ],
   "source": [
    "# Find the result of the first num to the power of the second number.\n",
    "\n",
    "a = 6\n",
    "b = 4\n",
    "\n",
    "print(a**b)"
   ]
  },
  {
   "cell_type": "markdown",
   "id": "225d32a6",
   "metadata": {},
   "source": [
    "# Comparision operation"
   ]
  },
  {
   "cell_type": "code",
   "execution_count": 23,
   "id": "14017ff8",
   "metadata": {},
   "outputs": [
    {
     "name": "stdout",
     "output_type": "stream",
     "text": [
      "True\n"
     ]
    }
   ],
   "source": [
    "# Greater than, '>'\n",
    "\n",
    "a = 90\n",
    "b = 82\n",
    "\n",
    "print(a>b)"
   ]
  },
  {
   "cell_type": "code",
   "execution_count": 31,
   "id": "434ea3d7",
   "metadata": {},
   "outputs": [
    {
     "name": "stdout",
     "output_type": "stream",
     "text": [
      "False\n"
     ]
    }
   ],
   "source": [
    "# Smaller than, '<'\n",
    "\n",
    "a = 90\n",
    "b = 82\n",
    "\n",
    "print(a<b)"
   ]
  },
  {
   "cell_type": "code",
   "execution_count": 33,
   "id": "a360a656",
   "metadata": {},
   "outputs": [
    {
     "name": "stdout",
     "output_type": "stream",
     "text": [
      "False\n"
     ]
    }
   ],
   "source": [
    "# Greater than or equal to, '>='\n",
    "\n",
    "a = 90\n",
    "b = 82\n",
    "\n",
    "print(a<=b)"
   ]
  },
  {
   "cell_type": "code",
   "execution_count": 32,
   "id": "02c267c9",
   "metadata": {},
   "outputs": [
    {
     "name": "stdout",
     "output_type": "stream",
     "text": [
      "True\n"
     ]
    }
   ],
   "source": [
    "# Less than or equal to, '<='\n",
    "\n",
    "a = 90\n",
    "b = 82\n",
    "\n",
    "print(a>=b)"
   ]
  },
  {
   "cell_type": "markdown",
   "id": "c7dd1ca7",
   "metadata": {},
   "source": [
    "# Equality Operation"
   ]
  },
  {
   "cell_type": "code",
   "execution_count": 28,
   "id": "3326f8ac",
   "metadata": {},
   "outputs": [
    {
     "name": "stdout",
     "output_type": "stream",
     "text": [
      "True\n"
     ]
    }
   ],
   "source": [
    "# Equate them using equality operators (==, !=)\n",
    "\n",
    "a = 90\n",
    "b = 90\n",
    "\n",
    "print(a == b)"
   ]
  },
  {
   "cell_type": "code",
   "execution_count": 39,
   "id": "b510593a",
   "metadata": {},
   "outputs": [
    {
     "name": "stdout",
     "output_type": "stream",
     "text": [
      "False\n"
     ]
    }
   ],
   "source": [
    "a = 90\n",
    "b = 90\n",
    "\n",
    "print(a != b)"
   ]
  },
  {
   "cell_type": "markdown",
   "id": "d4736b86",
   "metadata": {},
   "source": [
    "# logical operators"
   ]
  },
  {
   "cell_type": "code",
   "execution_count": 34,
   "id": "ee97e4dd",
   "metadata": {},
   "outputs": [
    {
     "name": "stdout",
     "output_type": "stream",
     "text": [
      "20\n"
     ]
    }
   ],
   "source": [
    "a = 10\n",
    "b = 20\n",
    "\n",
    "print(a and b) # and is taken flase value"
   ]
  },
  {
   "cell_type": "code",
   "execution_count": 36,
   "id": "e56b9a1d",
   "metadata": {},
   "outputs": [
    {
     "name": "stdout",
     "output_type": "stream",
     "text": [
      "0\n"
     ]
    }
   ],
   "source": [
    "a = 0\n",
    "b = 20\n",
    "\n",
    "print(a and b) # and is taken false value"
   ]
  },
  {
   "cell_type": "code",
   "execution_count": 37,
   "id": "f9941b2e",
   "metadata": {},
   "outputs": [
    {
     "name": "stdout",
     "output_type": "stream",
     "text": [
      "0\n"
     ]
    }
   ],
   "source": [
    "a = 20\n",
    "b = 0\n",
    "\n",
    "print(a and b) # and is taken false value"
   ]
  },
  {
   "cell_type": "code",
   "execution_count": 38,
   "id": "47b5b1ca",
   "metadata": {},
   "outputs": [
    {
     "name": "stdout",
     "output_type": "stream",
     "text": [
      "0\n"
     ]
    }
   ],
   "source": [
    "a = 0\n",
    "b = 0\n",
    "\n",
    "print(a and b) # and is taken false value"
   ]
  },
  {
   "cell_type": "code",
   "execution_count": 40,
   "id": "da10d20f",
   "metadata": {},
   "outputs": [
    {
     "name": "stdout",
     "output_type": "stream",
     "text": [
      "10\n"
     ]
    }
   ],
   "source": [
    "a = 10\n",
    "b = 20\n",
    "\n",
    "print(a or b) # and is taken True value"
   ]
  },
  {
   "cell_type": "code",
   "execution_count": 41,
   "id": "7f3f669f",
   "metadata": {},
   "outputs": [
    {
     "name": "stdout",
     "output_type": "stream",
     "text": [
      "20\n"
     ]
    }
   ],
   "source": [
    "a = 0\n",
    "b = 20\n",
    "\n",
    "print(a or b) # and is taken True value"
   ]
  },
  {
   "cell_type": "code",
   "execution_count": 42,
   "id": "2065e9fa",
   "metadata": {},
   "outputs": [
    {
     "name": "stdout",
     "output_type": "stream",
     "text": [
      "20\n"
     ]
    }
   ],
   "source": [
    "a = 20\n",
    "b = 0\n",
    "\n",
    "print(a or b) # and is taken True value"
   ]
  },
  {
   "cell_type": "code",
   "execution_count": 43,
   "id": "af911f52",
   "metadata": {},
   "outputs": [
    {
     "name": "stdout",
     "output_type": "stream",
     "text": [
      "0\n"
     ]
    }
   ],
   "source": [
    "a = 0\n",
    "b = 0\n",
    "\n",
    "print(a or b) # and is taken True value"
   ]
  },
  {
   "cell_type": "code",
   "execution_count": 49,
   "id": "c39a0ec4",
   "metadata": {},
   "outputs": [
    {
     "name": "stdout",
     "output_type": "stream",
     "text": [
      "False\n"
     ]
    }
   ],
   "source": [
    "a = 10\n",
    "b = 0\n",
    "\n",
    "print(not(a))  "
   ]
  },
  {
   "cell_type": "code",
   "execution_count": 50,
   "id": "39ffb15d",
   "metadata": {},
   "outputs": [
    {
     "name": "stdout",
     "output_type": "stream",
     "text": [
      "True\n"
     ]
    }
   ],
   "source": [
    "a = 10\n",
    "b = 0\n",
    "\n",
    "print(not(b))"
   ]
  },
  {
   "cell_type": "markdown",
   "id": "c9df7205",
   "metadata": {},
   "source": [
    "# Bitwise operators\n"
   ]
  },
  {
   "cell_type": "code",
   "execution_count": 51,
   "id": "e2f7db66",
   "metadata": {},
   "outputs": [
    {
     "name": "stdout",
     "output_type": "stream",
     "text": [
      "0\n"
     ]
    }
   ],
   "source": [
    "a = 10\n",
    "b = 20\n",
    "\n",
    "print(a & b) "
   ]
  },
  {
   "cell_type": "code",
   "execution_count": 3,
   "id": "15f73008",
   "metadata": {},
   "outputs": [
    {
     "data": {
      "text/plain": [
       "'0b1010'"
      ]
     },
     "execution_count": 3,
     "metadata": {},
     "output_type": "execute_result"
    }
   ],
   "source": [
    "bin(10)\n"
   ]
  },
  {
   "cell_type": "code",
   "execution_count": 5,
   "id": "0c8903a7",
   "metadata": {},
   "outputs": [
    {
     "data": {
      "text/plain": [
       "'0b10100'"
      ]
     },
     "execution_count": 5,
     "metadata": {},
     "output_type": "execute_result"
    }
   ],
   "source": [
    "bin(20)"
   ]
  },
  {
   "cell_type": "code",
   "execution_count": 7,
   "id": "cffd67c7",
   "metadata": {},
   "outputs": [
    {
     "data": {
      "text/plain": [
       "0"
      ]
     },
     "execution_count": 7,
     "metadata": {},
     "output_type": "execute_result"
    }
   ],
   "source": [
    "10 --> 0 1 0 1  0  \n",
    "20 --> 1 0 1 0  0\n",
    "       0 0 0 0  0"
   ]
  },
  {
   "cell_type": "code",
   "execution_count": 52,
   "id": "e0dfd7a3",
   "metadata": {},
   "outputs": [
    {
     "name": "stdout",
     "output_type": "stream",
     "text": [
      "30\n"
     ]
    }
   ],
   "source": [
    "a = 10\n",
    "b = 20\n",
    "\n",
    "print(a | b)"
   ]
  },
  {
   "cell_type": "code",
   "execution_count": null,
   "id": "32eb5114",
   "metadata": {},
   "outputs": [],
   "source": [
    "10 - -> 0 1 0 1 0\n",
    "20 -->  1 0 1 0 0\n",
    "        1 1 1 1 0"
   ]
  },
  {
   "cell_type": "code",
   "execution_count": 2,
   "id": "ea960f34",
   "metadata": {},
   "outputs": [
    {
     "data": {
      "text/plain": [
       "30"
      ]
     },
     "execution_count": 2,
     "metadata": {},
     "output_type": "execute_result"
    }
   ],
   "source": [
    "int(0b11110)"
   ]
  },
  {
   "cell_type": "code",
   "execution_count": 53,
   "id": "2988fb63",
   "metadata": {},
   "outputs": [
    {
     "name": "stdout",
     "output_type": "stream",
     "text": [
      "30\n"
     ]
    }
   ],
   "source": [
    "a = 10\n",
    "b = 20\n",
    "\n",
    "print(a ^ b)"
   ]
  },
  {
   "cell_type": "code",
   "execution_count": 56,
   "id": "7863d809",
   "metadata": {},
   "outputs": [
    {
     "name": "stdout",
     "output_type": "stream",
     "text": [
      "-11\n"
     ]
    }
   ],
   "source": [
    "a = 10\n",
    "b = 20\n",
    "\n",
    "print(~ a)"
   ]
  },
  {
   "cell_type": "code",
   "execution_count": 58,
   "id": "48daaf3a",
   "metadata": {},
   "outputs": [
    {
     "name": "stdout",
     "output_type": "stream",
     "text": [
      "40\n"
     ]
    }
   ],
   "source": [
    "a = 10\n",
    "\n",
    "print(a << 2)"
   ]
  },
  {
   "cell_type": "code",
   "execution_count": 59,
   "id": "a4723be0",
   "metadata": {},
   "outputs": [
    {
     "data": {
      "text/plain": [
       "'0b1010'"
      ]
     },
     "execution_count": 59,
     "metadata": {},
     "output_type": "execute_result"
    }
   ],
   "source": [
    "bin(10)"
   ]
  },
  {
   "cell_type": "code",
   "execution_count": 60,
   "id": "356e6384",
   "metadata": {},
   "outputs": [
    {
     "data": {
      "text/plain": [
       "40"
      ]
     },
     "execution_count": 60,
     "metadata": {},
     "output_type": "execute_result"
    }
   ],
   "source": [
    "int(0b101000)"
   ]
  },
  {
   "cell_type": "code",
   "execution_count": 61,
   "id": "bbe8f32b",
   "metadata": {},
   "outputs": [
    {
     "name": "stdout",
     "output_type": "stream",
     "text": [
      "2\n"
     ]
    }
   ],
   "source": [
    "a = 10\n",
    "\n",
    "print(a >> 2)"
   ]
  },
  {
   "cell_type": "code",
   "execution_count": 62,
   "id": "1557167c",
   "metadata": {},
   "outputs": [
    {
     "data": {
      "text/plain": [
       "'0b1010'"
      ]
     },
     "execution_count": 62,
     "metadata": {},
     "output_type": "execute_result"
    }
   ],
   "source": [
    "bin(10)"
   ]
  },
  {
   "cell_type": "code",
   "execution_count": 63,
   "id": "60b3f10d",
   "metadata": {},
   "outputs": [
    {
     "data": {
      "text/plain": [
       "2"
      ]
     },
     "execution_count": 63,
     "metadata": {},
     "output_type": "execute_result"
    }
   ],
   "source": [
    "int(0b0010)"
   ]
  },
  {
   "cell_type": "markdown",
   "id": "22bf2493",
   "metadata": {},
   "source": [
    "# output Statement"
   ]
  },
  {
   "cell_type": "code",
   "execution_count": 64,
   "id": "57815aae",
   "metadata": {},
   "outputs": [
    {
     "name": "stdout",
     "output_type": "stream",
     "text": [
      "True\n"
     ]
    }
   ],
   "source": [
    "a = 10\n",
    "b = 10\n",
    "\n",
    "print(a is b)\n"
   ]
  },
  {
   "cell_type": "code",
   "execution_count": 65,
   "id": "96fb155c",
   "metadata": {},
   "outputs": [
    {
     "name": "stdout",
     "output_type": "stream",
     "text": [
      "False\n"
     ]
    }
   ],
   "source": [
    "a = 10\n",
    "b = 10\n",
    "\n",
    "print(a is not b)"
   ]
  },
  {
   "cell_type": "code",
   "execution_count": 4,
   "id": "41a882b7",
   "metadata": {},
   "outputs": [
    {
     "name": "stdout",
     "output_type": "stream",
     "text": [
      "False\n"
     ]
    }
   ],
   "source": [
    "a = 1000\n",
    "b = 1000\n",
    "\n",
    "print(a is b) #(a and b diff identity values)"
   ]
  },
  {
   "cell_type": "code",
   "execution_count": 6,
   "id": "5fca1fe4",
   "metadata": {},
   "outputs": [
    {
     "name": "stdout",
     "output_type": "stream",
     "text": [
      "3044669776656\n",
      "3044669776432\n"
     ]
    }
   ],
   "source": [
    "a = 1000\n",
    "b = 1000\n",
    "\n",
    "print(id(a))\n",
    "print(id(b))"
   ]
  },
  {
   "cell_type": "code",
   "execution_count": 5,
   "id": "932d15c6",
   "metadata": {},
   "outputs": [
    {
     "name": "stdout",
     "output_type": "stream",
     "text": [
      "True\n"
     ]
    }
   ],
   "source": [
    "a = 1000\n",
    "b = 1000\n",
    "\n",
    "print(a is not b) # (a and b diff identity values)"
   ]
  },
  {
   "cell_type": "code",
   "execution_count": 68,
   "id": "60c8ba20",
   "metadata": {},
   "outputs": [
    {
     "name": "stdout",
     "output_type": "stream",
     "text": [
      "20\n"
     ]
    }
   ],
   "source": [
    "a = 10\n",
    "b = 32\n",
    "c = 2\n",
    "d = 20\n",
    "e = 5\n",
    "\n",
    "f =(a+(a*b)//c**e & d+(~(-10))<<c)\n",
    "print(f)"
   ]
  },
  {
   "cell_type": "code",
   "execution_count": 81,
   "id": "ac8f3d8e",
   "metadata": {},
   "outputs": [
    {
     "name": "stdout",
     "output_type": "stream",
     "text": [
      "20\n"
     ]
    }
   ],
   "source": [
    "print(10+(10*32)//2**5&20+(~(-10))<<2)"
   ]
  },
  {
   "cell_type": "code",
   "execution_count": 83,
   "id": "8493c286",
   "metadata": {},
   "outputs": [
    {
     "data": {
      "text/plain": [
       "330"
      ]
     },
     "execution_count": 83,
     "metadata": {},
     "output_type": "execute_result"
    }
   ],
   "source": [
    "(10+(10*32))"
   ]
  },
  {
   "cell_type": "code",
   "execution_count": 84,
   "id": "1724eebe",
   "metadata": {},
   "outputs": [
    {
     "data": {
      "text/plain": [
       "0"
      ]
     },
     "execution_count": 84,
     "metadata": {},
     "output_type": "execute_result"
    }
   ],
   "source": [
    "2**5&20+(~(-10))"
   ]
  },
  {
   "cell_type": "code",
   "execution_count": null,
   "id": "dc6e9364",
   "metadata": {},
   "outputs": [],
   "source": [
    "# Membership operation in , not in"
   ]
  },
  {
   "cell_type": "code",
   "execution_count": null,
   "id": "2cd8d46b",
   "metadata": {},
   "outputs": [],
   "source": [
    "# print('2' in 'Python2.7.8') # (in , not in)"
   ]
  },
  {
   "cell_type": "code",
   "execution_count": 14,
   "id": "06b1deab",
   "metadata": {
    "scrolled": true
   },
   "outputs": [
    {
     "name": "stdout",
     "output_type": "stream",
     "text": [
      "True\n"
     ]
    }
   ],
   "source": [
    "a = 'python2.7.8'\n",
    "\n",
    "print('2' in a) "
   ]
  },
  {
   "cell_type": "code",
   "execution_count": 17,
   "id": "ddd9081f",
   "metadata": {},
   "outputs": [
    {
     "name": "stdout",
     "output_type": "stream",
     "text": [
      "False\n"
     ]
    }
   ],
   "source": [
    "a = 'python2.7.8'\n",
    "\n",
    "print('2' not in a)"
   ]
  },
  {
   "cell_type": "code",
   "execution_count": null,
   "id": "631bdcd1",
   "metadata": {},
   "outputs": [],
   "source": [
    "# print(10 in [10,10.20,10+20j,'Python']) # (in , not in)"
   ]
  },
  {
   "cell_type": "code",
   "execution_count": 16,
   "id": "64d33af4",
   "metadata": {},
   "outputs": [
    {
     "name": "stdout",
     "output_type": "stream",
     "text": [
      "True\n"
     ]
    }
   ],
   "source": [
    "a= \"10,10.20,10+20j,'Python'\"\n",
    "\n",
    "print('10' in a)"
   ]
  },
  {
   "cell_type": "code",
   "execution_count": 18,
   "id": "f577bd18",
   "metadata": {},
   "outputs": [
    {
     "name": "stdout",
     "output_type": "stream",
     "text": [
      "False\n"
     ]
    }
   ],
   "source": [
    "a= \"10,10.20,10+20j,'Python'\"\n",
    "\n",
    "print('10'  not in a)"
   ]
  },
  {
   "cell_type": "code",
   "execution_count": null,
   "id": "4c2d48f6",
   "metadata": {},
   "outputs": [],
   "source": [
    "# print(10 in (10,10.20,10+20j,'Python')) # (in , not in)"
   ]
  },
  {
   "cell_type": "code",
   "execution_count": 19,
   "id": "1dae45ff",
   "metadata": {},
   "outputs": [
    {
     "name": "stdout",
     "output_type": "stream",
     "text": [
      "True\n"
     ]
    }
   ],
   "source": [
    "a= (\"10,10.20,10+20j,'Python'\")\n",
    "\n",
    "print('10' in a)"
   ]
  },
  {
   "cell_type": "code",
   "execution_count": 20,
   "id": "d1f57ffa",
   "metadata": {},
   "outputs": [
    {
     "name": "stdout",
     "output_type": "stream",
     "text": [
      "False\n"
     ]
    }
   ],
   "source": [
    "a= (\"10,10.20,10+20j,'Python'\")\n",
    "\n",
    "print('10'  not in a)"
   ]
  },
  {
   "cell_type": "code",
   "execution_count": null,
   "id": "441a4f7c",
   "metadata": {},
   "outputs": [],
   "source": [
    "# print(2 in {1,2,3}) # (in , not in)"
   ]
  },
  {
   "cell_type": "code",
   "execution_count": 21,
   "id": "12740ce5",
   "metadata": {},
   "outputs": [
    {
     "name": "stdout",
     "output_type": "stream",
     "text": [
      "True\n"
     ]
    }
   ],
   "source": [
    "a = {1,2,3}\n",
    "\n",
    "print(2 in a)"
   ]
  },
  {
   "cell_type": "code",
   "execution_count": 22,
   "id": "3b6e28ea",
   "metadata": {},
   "outputs": [
    {
     "name": "stdout",
     "output_type": "stream",
     "text": [
      "False\n"
     ]
    }
   ],
   "source": [
    "a = {1,2,3}\n",
    "\n",
    "print(2  not in a)"
   ]
  },
  {
   "cell_type": "code",
   "execution_count": null,
   "id": "0bbb0e24",
   "metadata": {},
   "outputs": [],
   "source": [
    "# print(3 in {1:100, 2:200, 3:300}) # (in , not in)"
   ]
  },
  {
   "cell_type": "code",
   "execution_count": 23,
   "id": "82bc9641",
   "metadata": {},
   "outputs": [
    {
     "name": "stdout",
     "output_type": "stream",
     "text": [
      "True\n"
     ]
    }
   ],
   "source": [
    "a = {1:100, 2:200, 3:300}\n",
    "\n",
    "print(3 in a)"
   ]
  },
  {
   "cell_type": "code",
   "execution_count": 24,
   "id": "d3bbb4cf",
   "metadata": {},
   "outputs": [
    {
     "name": "stdout",
     "output_type": "stream",
     "text": [
      "False\n"
     ]
    }
   ],
   "source": [
    "a = {1:100, 2:200, 3:300}\n",
    "\n",
    "print(3  not in a)"
   ]
  },
  {
   "cell_type": "code",
   "execution_count": null,
   "id": "fb4b1c00",
   "metadata": {},
   "outputs": [],
   "source": [
    "# print(10 in range(20)) # (in , not in)"
   ]
  },
  {
   "cell_type": "code",
   "execution_count": 29,
   "id": "fa6d4996",
   "metadata": {},
   "outputs": [
    {
     "name": "stdout",
     "output_type": "stream",
     "text": [
      "True\n"
     ]
    }
   ],
   "source": [
    "a = [1, 2, 3,4,5,6,7,8,9,10,11,12,13,14,15,16,17,18,19,20]\n",
    "\n",
    "print(10 in range(20))"
   ]
  },
  {
   "cell_type": "code",
   "execution_count": null,
   "id": "3a2441b1",
   "metadata": {},
   "outputs": [],
   "source": [
    "# An integer can be represented in binary, octal or hexadecimal form."
   ]
  },
  {
   "cell_type": "code",
   "execution_count": null,
   "id": "06c35d0f",
   "metadata": {},
   "outputs": [],
   "source": [
    "#Declare one binary, one octal and one hexadecimal value and store them\n",
    "#in three different variables."
   ]
  },
  {
   "cell_type": "code",
   "execution_count": 38,
   "id": "3b47d9d7",
   "metadata": {},
   "outputs": [
    {
     "name": "stdout",
     "output_type": "stream",
     "text": [
      "binary: 10\n",
      "octal: 20\n",
      "hexdecimal: 30\n"
     ]
    }
   ],
   "source": [
    "a = 0b1010\n",
    "b = 0o24\n",
    "c = 0x1e\n",
    "\n",
    "print(\"binary:\",a)\n",
    "print(\"octal:\",b)\n",
    "print(\"hexdecimal:\",c)\n"
   ]
  },
  {
   "cell_type": "code",
   "execution_count": 39,
   "id": "2e223f58",
   "metadata": {},
   "outputs": [
    {
     "data": {
      "text/plain": [
       "'0b1010'"
      ]
     },
     "execution_count": 39,
     "metadata": {},
     "output_type": "execute_result"
    }
   ],
   "source": [
    "a = 10\n",
    "bin(10)\n",
    "\n"
   ]
  },
  {
   "cell_type": "code",
   "execution_count": 41,
   "id": "839128de",
   "metadata": {},
   "outputs": [
    {
     "data": {
      "text/plain": [
       "'0o36'"
      ]
     },
     "execution_count": 41,
     "metadata": {},
     "output_type": "execute_result"
    }
   ],
   "source": [
    "b= 20\n",
    "\n",
    "oct(c)"
   ]
  },
  {
   "cell_type": "code",
   "execution_count": 42,
   "id": "1f8bf5a8",
   "metadata": {},
   "outputs": [
    {
     "data": {
      "text/plain": [
       "'0x1e'"
      ]
     },
     "execution_count": 42,
     "metadata": {},
     "output_type": "execute_result"
    }
   ],
   "source": [
    "c = 30\n",
    "\n",
    "hex(c)"
   ]
  },
  {
   "cell_type": "code",
   "execution_count": 43,
   "id": "dcfb8c59",
   "metadata": {},
   "outputs": [
    {
     "data": {
      "text/plain": [
       "'0b10011010010100'"
      ]
     },
     "execution_count": 43,
     "metadata": {},
     "output_type": "execute_result"
    }
   ],
   "source": [
    "a = 9876\n",
    "bin(a)\n"
   ]
  },
  {
   "cell_type": "code",
   "execution_count": 44,
   "id": "ee366f52",
   "metadata": {},
   "outputs": [
    {
     "data": {
      "text/plain": [
       "'0o23224'"
      ]
     },
     "execution_count": 44,
     "metadata": {},
     "output_type": "execute_result"
    }
   ],
   "source": [
    "a = 9876\n",
    "oct(a)"
   ]
  },
  {
   "cell_type": "code",
   "execution_count": 45,
   "id": "e33b3c3e",
   "metadata": {},
   "outputs": [
    {
     "data": {
      "text/plain": [
       "'0x2694'"
      ]
     },
     "execution_count": 45,
     "metadata": {},
     "output_type": "execute_result"
    }
   ],
   "source": [
    "a = 9876\n",
    "hex(a)"
   ]
  },
  {
   "cell_type": "code",
   "execution_count": null,
   "id": "a1e5444f",
   "metadata": {},
   "outputs": [],
   "source": [
    "# What will be the output of following:-"
   ]
  },
  {
   "cell_type": "code",
   "execution_count": 46,
   "id": "220c7ced",
   "metadata": {},
   "outputs": [
    {
     "name": "stdout",
     "output_type": "stream",
     "text": [
      "80\n"
     ]
    }
   ],
   "source": [
    "a = 0b1010000\n",
    "\n",
    "print(a)"
   ]
  },
  {
   "cell_type": "code",
   "execution_count": 47,
   "id": "1bdc007f",
   "metadata": {},
   "outputs": [
    {
     "name": "stdout",
     "output_type": "stream",
     "text": [
      "3870\n"
     ]
    }
   ],
   "source": [
    "b = 0o7436\n",
    "\n",
    "print(b)"
   ]
  },
  {
   "cell_type": "code",
   "execution_count": 48,
   "id": "4a2e768f",
   "metadata": {},
   "outputs": [
    {
     "name": "stdout",
     "output_type": "stream",
     "text": [
      "64222\n"
     ]
    }
   ],
   "source": [
    "c = 0xfade\n",
    "\n",
    "print(c)"
   ]
  },
  {
   "cell_type": "code",
   "execution_count": 49,
   "id": "7cbc3543",
   "metadata": {},
   "outputs": [
    {
     "name": "stdout",
     "output_type": "stream",
     "text": [
      "0b1010000\n"
     ]
    }
   ],
   "source": [
    "a = 80\n",
    "\n",
    "print(bin(80))"
   ]
  },
  {
   "cell_type": "code",
   "execution_count": 50,
   "id": "8649cfc7",
   "metadata": {},
   "outputs": [
    {
     "name": "stdout",
     "output_type": "stream",
     "text": [
      "0o7436\n"
     ]
    }
   ],
   "source": [
    "a = 3870\n",
    "\n",
    "print(oct(a))"
   ]
  },
  {
   "cell_type": "code",
   "execution_count": 51,
   "id": "6f16bc8d",
   "metadata": {},
   "outputs": [
    {
     "name": "stdout",
     "output_type": "stream",
     "text": [
      "0xfade\n"
     ]
    }
   ],
   "source": [
    "a = 64222\n",
    "\n",
    "print(hex(a))"
   ]
  },
  {
   "cell_type": "code",
   "execution_count": 52,
   "id": "3a14f0f4",
   "metadata": {},
   "outputs": [
    {
     "name": "stdout",
     "output_type": "stream",
     "text": [
      "0b1010000\n"
     ]
    }
   ],
   "source": [
    "a = 0b1010000\n",
    "\n",
    "print(bin(a))"
   ]
  },
  {
   "cell_type": "code",
   "execution_count": 54,
   "id": "5a2938aa",
   "metadata": {},
   "outputs": [
    {
     "name": "stdout",
     "output_type": "stream",
     "text": [
      "0b1111101011011110\n"
     ]
    }
   ],
   "source": [
    "a = 0xfade\n",
    "\n",
    "print(bin(a))"
   ]
  },
  {
   "cell_type": "code",
   "execution_count": 55,
   "id": "6c9faeaa",
   "metadata": {},
   "outputs": [
    {
     "name": "stdout",
     "output_type": "stream",
     "text": [
      "0o175336\n"
     ]
    }
   ],
   "source": [
    "a = 0xfade\n",
    "\n",
    "print(oct(a)) "
   ]
  },
  {
   "cell_type": "code",
   "execution_count": 56,
   "id": "0e0e6306",
   "metadata": {},
   "outputs": [
    {
     "name": "stdout",
     "output_type": "stream",
     "text": [
      "0o7436\n"
     ]
    }
   ],
   "source": [
    "a = 0o7436\n",
    "\n",
    "print(oct(a))"
   ]
  },
  {
   "cell_type": "code",
   "execution_count": 57,
   "id": "92cef448",
   "metadata": {},
   "outputs": [
    {
     "name": "stdout",
     "output_type": "stream",
     "text": [
      "80\n"
     ]
    }
   ],
   "source": [
    "a = 0b1010000\n",
    "\n",
    "print(a)"
   ]
  },
  {
   "cell_type": "code",
   "execution_count": 58,
   "id": "8b9d704f",
   "metadata": {},
   "outputs": [
    {
     "name": "stdout",
     "output_type": "stream",
     "text": [
      "64222\n"
     ]
    }
   ],
   "source": [
    "a = 0xfade\n",
    "\n",
    "print(a)"
   ]
  },
  {
   "cell_type": "code",
   "execution_count": null,
   "id": "bda53eae",
   "metadata": {},
   "outputs": [],
   "source": []
  },
  {
   "cell_type": "code",
   "execution_count": null,
   "id": "d7b007ef",
   "metadata": {},
   "outputs": [],
   "source": []
  },
  {
   "cell_type": "code",
   "execution_count": null,
   "id": "e5bb98c1",
   "metadata": {},
   "outputs": [],
   "source": []
  },
  {
   "cell_type": "code",
   "execution_count": null,
   "id": "c401cae6",
   "metadata": {},
   "outputs": [],
   "source": []
  },
  {
   "cell_type": "code",
   "execution_count": null,
   "id": "91159fc6",
   "metadata": {},
   "outputs": [],
   "source": []
  }
 ],
 "metadata": {
  "kernelspec": {
   "display_name": "Python 3",
   "language": "python",
   "name": "python3"
  },
  "language_info": {
   "codemirror_mode": {
    "name": "ipython",
    "version": 3
   },
   "file_extension": ".py",
   "mimetype": "text/x-python",
   "name": "python",
   "nbconvert_exporter": "python",
   "pygments_lexer": "ipython3",
   "version": "3.8.8"
  }
 },
 "nbformat": 4,
 "nbformat_minor": 5
}
