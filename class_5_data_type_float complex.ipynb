{
 "cells": [
  {
   "cell_type": "markdown",
   "id": "7eca5988",
   "metadata": {},
   "source": [
    "# IDENTITY OPERATORS\n",
    "\n",
    "is\n",
    "\n",
    "is not"
   ]
  },
  {
   "cell_type": "code",
   "execution_count": 1,
   "id": "622cbaae",
   "metadata": {},
   "outputs": [
    {
     "name": "stdout",
     "output_type": "stream",
     "text": [
      "True\n"
     ]
    }
   ],
   "source": [
    "a = 90\n",
    "b = 90\n",
    "\n",
    "print(a == b)"
   ]
  },
  {
   "cell_type": "code",
   "execution_count": 2,
   "id": "e350c9da",
   "metadata": {},
   "outputs": [
    {
     "name": "stdout",
     "output_type": "stream",
     "text": [
      "True\n"
     ]
    }
   ],
   "source": [
    "a = 90\n",
    "b = 90\n",
    "\n",
    "print(a is b)"
   ]
  },
  {
   "cell_type": "code",
   "execution_count": 5,
   "id": "bef453b4",
   "metadata": {},
   "outputs": [
    {
     "name": "stdout",
     "output_type": "stream",
     "text": [
      "140713396442184\n",
      "140713396442184\n",
      "140713396442504\n"
     ]
    }
   ],
   "source": [
    "a = 10\n",
    "c = 10\n",
    "b = 20\n",
    "\n",
    "print(id(a))\n",
    "print(id(c))\n",
    "print(id(b))"
   ]
  },
  {
   "cell_type": "code",
   "execution_count": null,
   "id": "b932c091",
   "metadata": {},
   "outputs": [],
   "source": [
    "# Memory Reuseability\n",
    "\n",
    "ist applicable\n",
    "\n",
    "- int - -5 to 256\n",
    "- bool\n",
    "-none\n",
    "-str, some application (a-z, A-Z, 0to 9 -)\n",
    "\n",
    "ist not applicable\n",
    "float\n",
    "complex"
   ]
  },
  {
   "cell_type": "code",
   "execution_count": 6,
   "id": "d9df6d55",
   "metadata": {},
   "outputs": [
    {
     "name": "stdout",
     "output_type": "stream",
     "text": [
      "140713396445064\n",
      "140713396445064\n"
     ]
    }
   ],
   "source": [
    "a = 100\n",
    "c = 100\n",
    "\n",
    "\n",
    "print(id(a))\n",
    "print(id(c))\n"
   ]
  },
  {
   "cell_type": "code",
   "execution_count": 10,
   "id": "cbdb16db",
   "metadata": {},
   "outputs": [
    {
     "name": "stdout",
     "output_type": "stream",
     "text": [
      "140713396448264\n",
      "2203858276624\n"
     ]
    }
   ],
   "source": [
    "a = 200\n",
    "c = 500\n",
    "\n",
    "\n",
    "print(id(a))\n",
    "print(id(c))"
   ]
  },
  {
   "cell_type": "code",
   "execution_count": 12,
   "id": "c5d47cd9",
   "metadata": {},
   "outputs": [
    {
     "name": "stdout",
     "output_type": "stream",
     "text": [
      "2203858285264\n",
      "2203858286160\n",
      "False\n",
      "True\n"
     ]
    }
   ],
   "source": [
    "a = 300\n",
    "b = 300\n",
    "\n",
    "\n",
    "print(id(a))\n",
    "print(id(b))\n",
    "\n",
    "print(a is b)\n",
    "print(a == b)"
   ]
  },
  {
   "cell_type": "code",
   "execution_count": 14,
   "id": "76425cf6",
   "metadata": {},
   "outputs": [
    {
     "name": "stdout",
     "output_type": "stream",
     "text": [
      "2203855567120\n",
      "2203858277968\n",
      "False\n"
     ]
    }
   ],
   "source": [
    "a = 99.0\n",
    "b = 99.0\n",
    "\n",
    "\n",
    "print(id(a))\n",
    "print(id(b))\n",
    "\n",
    "print(a is b)\n"
   ]
  },
  {
   "cell_type": "code",
   "execution_count": 15,
   "id": "8041a3f4",
   "metadata": {},
   "outputs": [
    {
     "name": "stdout",
     "output_type": "stream",
     "text": [
      "2203859337392\n",
      "2203859340528\n",
      "False\n"
     ]
    }
   ],
   "source": [
    "a = 'Data@science123'\n",
    "b = 'Data@science123'\n",
    "\n",
    "\n",
    "\n",
    "print(id(a))\n",
    "print(id(b))\n",
    "\n",
    "print(a is b)"
   ]
  },
  {
   "cell_type": "code",
   "execution_count": 16,
   "id": "800b9b10",
   "metadata": {},
   "outputs": [
    {
     "name": "stdout",
     "output_type": "stream",
     "text": [
      "2203858626160\n",
      "2203859339440\n",
      "False\n",
      "True\n"
     ]
    }
   ],
   "source": [
    "a = 'This is python'\n",
    "b = 'This is python'\n",
    "\n",
    "\n",
    "\n",
    "print(id(a))\n",
    "print(id(b))\n",
    "\n",
    "print(a is b)\n",
    "print(a == b)"
   ]
  },
  {
   "cell_type": "code",
   "execution_count": 17,
   "id": "aa094e97",
   "metadata": {},
   "outputs": [
    {
     "name": "stdout",
     "output_type": "stream",
     "text": [
      "False\n",
      "True\n"
     ]
    }
   ],
   "source": [
    "a = 999\n",
    "b = 999\n",
    "\n",
    "print(a is b)\n",
    "print(a is not b)"
   ]
  },
  {
   "cell_type": "code",
   "execution_count": null,
   "id": "af4b6701",
   "metadata": {},
   "outputs": [],
   "source": [
    "-Arithmetic\n",
    "comparision\n",
    "equality\n",
    "logical\n",
    "assignment\n",
    "bitwise\n",
    "identity\n",
    "\n"
   ]
  },
  {
   "cell_type": "markdown",
   "id": "7fb8e646",
   "metadata": {},
   "source": [
    "# float\n",
    "\n",
    "-opertors possible\n",
    "operators not possible"
   ]
  },
  {
   "cell_type": "markdown",
   "id": "d198aa49",
   "metadata": {},
   "source": [
    "# complex\n",
    "\n",
    "\n",
    "-opertors possible\n",
    "\n",
    "operators not possible"
   ]
  },
  {
   "cell_type": "markdown",
   "id": "ec163436",
   "metadata": {},
   "source": [
    "# string"
   ]
  },
  {
   "cell_type": "code",
   "execution_count": 18,
   "id": "1081d4d6",
   "metadata": {},
   "outputs": [
    {
     "name": "stdout",
     "output_type": "stream",
     "text": [
      "99 <class 'str'>\n"
     ]
    }
   ],
   "source": [
    "a = '99'\n",
    "\n",
    "print(a, type(a))"
   ]
  },
  {
   "cell_type": "code",
   "execution_count": null,
   "id": "9964fc53",
   "metadata": {},
   "outputs": [],
   "source": [
    "# properties of string\n",
    "\n",
    "- It is an seq data type which allows us to perform Indexing and silcing (Indexing-exact the one char at a time)\n",
    " silcing- exact the multiple char at the time \n"
   ]
  },
  {
   "cell_type": "code",
   "execution_count": 19,
   "id": "baa14f66",
   "metadata": {},
   "outputs": [
    {
     "name": "stdout",
     "output_type": "stream",
     "text": [
      "t\n",
      "t\n"
     ]
    }
   ],
   "source": [
    "a = 'python'\n",
    "\n",
    "print(a[2])\n",
    "print(a[-4])"
   ]
  },
  {
   "cell_type": "code",
   "execution_count": 20,
   "id": "bae3c1d9",
   "metadata": {},
   "outputs": [
    {
     "name": "stdout",
     "output_type": "stream",
     "text": [
      "o\n",
      "o\n"
     ]
    }
   ],
   "source": [
    "print(a[4])\n",
    "print(a[-2])"
   ]
  },
  {
   "cell_type": "code",
   "execution_count": 23,
   "id": "cf0aa777",
   "metadata": {},
   "outputs": [
    {
     "name": "stdout",
     "output_type": "stream",
     "text": [
      "Data\n",
      "Data\n",
      "Data\n",
      "Data\n"
     ]
    }
   ],
   "source": [
    "a = 'Data Science'\n",
    "\n",
    "print(a[0:4])\n",
    "print(a[-12:-8])\n",
    "print(a[0:-8])\n",
    "print(a[-12 : 4])"
   ]
  },
  {
   "cell_type": "code",
   "execution_count": 29,
   "id": "ec028a81",
   "metadata": {},
   "outputs": [
    {
     "name": "stdout",
     "output_type": "stream",
     "text": [
      " Scienc\n",
      "Science\n",
      "Science\n",
      "Science\n"
     ]
    }
   ],
   "source": [
    "print(a[4:11])\n",
    "print(a[-7 :12])\n",
    "print(a[5:])\n",
    "print(a[-7:])"
   ]
  },
  {
   "cell_type": "code",
   "execution_count": 50,
   "id": "24df8877",
   "metadata": {},
   "outputs": [
    {
     "name": "stdout",
     "output_type": "stream",
     "text": [
      "29\n",
      "29\n",
      "29\n",
      "29\n"
     ]
    }
   ],
   "source": [
    "a = '29-11-2023'\n",
    "print(a[0:2])\n",
    "print(a[0:-8])\n",
    "print(a[-10:-8])\n",
    "print(a[-10:2])"
   ]
  },
  {
   "cell_type": "code",
   "execution_count": 51,
   "id": "13bb4e38",
   "metadata": {},
   "outputs": [
    {
     "name": "stdout",
     "output_type": "stream",
     "text": [
      "11\n",
      "11\n",
      "11\n",
      "11\n"
     ]
    }
   ],
   "source": [
    "print(a[3:5])\n",
    "print(a[-7:-5])\n",
    "print(a[3:-5])\n",
    "print(a[-7:5])"
   ]
  },
  {
   "cell_type": "code",
   "execution_count": 53,
   "id": "aa116bd7",
   "metadata": {},
   "outputs": [
    {
     "name": "stdout",
     "output_type": "stream",
     "text": [
      "2023\n",
      "2023\n",
      "2023\n",
      "2023\n"
     ]
    }
   ],
   "source": [
    "print(a[6:10])\n",
    "print(a[-4:10])\n",
    "print(a[6:])\n",
    "print(a[-4:])\n"
   ]
  },
  {
   "cell_type": "code",
   "execution_count": null,
   "id": "bd214252",
   "metadata": {},
   "outputs": [],
   "source": []
  },
  {
   "cell_type": "code",
   "execution_count": null,
   "id": "6fba61d5",
   "metadata": {},
   "outputs": [],
   "source": []
  },
  {
   "cell_type": "code",
   "execution_count": null,
   "id": "4545ed9f",
   "metadata": {},
   "outputs": [],
   "source": []
  },
  {
   "cell_type": "code",
   "execution_count": null,
   "id": "e724d3ea",
   "metadata": {},
   "outputs": [],
   "source": []
  }
 ],
 "metadata": {
  "kernelspec": {
   "display_name": "Python 3 (ipykernel)",
   "language": "python",
   "name": "python3"
  },
  "language_info": {
   "codemirror_mode": {
    "name": "ipython",
    "version": 3
   },
   "file_extension": ".py",
   "mimetype": "text/x-python",
   "name": "python",
   "nbconvert_exporter": "python",
   "pygments_lexer": "ipython3",
   "version": "3.11.5"
  }
 },
 "nbformat": 4,
 "nbformat_minor": 5
}
