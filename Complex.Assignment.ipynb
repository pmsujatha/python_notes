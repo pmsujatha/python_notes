{
 "cells": [
  {
   "cell_type": "code",
   "execution_count": 1,
   "id": "0c357661",
   "metadata": {},
   "outputs": [
    {
     "name": "stdout",
     "output_type": "stream",
     "text": [
      "(10+20j) <class 'complex'>\n"
     ]
    }
   ],
   "source": [
    "# Declare a complex number and store it in a variable.Check the type and print the id of the same.\n",
    "\n",
    "a = 10+20j\n",
    "\n",
    "print(a , type(a))"
   ]
  },
  {
   "cell_type": "markdown",
   "id": "09256a5a",
   "metadata": {},
   "source": [
    "# Arithmetic Operations"
   ]
  },
  {
   "cell_type": "code",
   "execution_count": 2,
   "id": "49f986fe",
   "metadata": {},
   "outputs": [
    {
     "name": "stdout",
     "output_type": "stream",
     "text": [
      "(30+60j)\n"
     ]
    }
   ],
   "source": [
    "# Find sum of both numbers.\n",
    "\n",
    "a = 10+20j\n",
    "b = 20+40j\n",
    "\n",
    "print(a+b)"
   ]
  },
  {
   "cell_type": "code",
   "execution_count": 3,
   "id": "07152520",
   "metadata": {},
   "outputs": [
    {
     "name": "stdout",
     "output_type": "stream",
     "text": [
      "(-10-20j)\n"
     ]
    }
   ],
   "source": [
    "# Find difference between them.\n",
    "\n",
    "a = 10+20j\n",
    "b = 20+40j\n",
    "\n",
    "print(a-b)"
   ]
  },
  {
   "cell_type": "code",
   "execution_count": 4,
   "id": "7287dd93",
   "metadata": {},
   "outputs": [
    {
     "name": "stdout",
     "output_type": "stream",
     "text": [
      "(-700+600j)\n"
     ]
    }
   ],
   "source": [
    "# Find the product of both numbers.\n",
    "\n",
    "a = 10+20j\n",
    "b = 10+40j\n",
    "\n",
    "print(a*b)"
   ]
  },
  {
   "cell_type": "code",
   "execution_count": 5,
   "id": "5dacb16d",
   "metadata": {},
   "outputs": [
    {
     "name": "stdout",
     "output_type": "stream",
     "text": [
      "(0.5294117647058824-0.11764705882352941j)\n"
     ]
    }
   ],
   "source": [
    "# Find value after dividing first num with second number\n",
    "\n",
    "a = 10+20j\n",
    "b = 10+40j\n",
    "\n",
    "print(a/b)"
   ]
  },
  {
   "cell_type": "code",
   "execution_count": 6,
   "id": "0f95985c",
   "metadata": {},
   "outputs": [
    {
     "name": "stdout",
     "output_type": "stream",
     "text": [
      "(-1.7581406902401452e-06-4.963702427295144e-07j)\n"
     ]
    }
   ],
   "source": [
    "#Find the result of the first num to the power of the second number.\n",
    "\n",
    "a = 10+20j\n",
    "b = 10+40j\n",
    "\n",
    "print(a**b)"
   ]
  },
  {
   "cell_type": "code",
   "execution_count": 7,
   "id": "783a5f0f",
   "metadata": {},
   "outputs": [
    {
     "ename": "SyntaxError",
     "evalue": "invalid syntax (781257230.py, line 1)",
     "output_type": "error",
     "traceback": [
      "\u001b[1;36m  Cell \u001b[1;32mIn[7], line 1\u001b[1;36m\u001b[0m\n\u001b[1;33m    Comparison Operation not applicable between instance of complex\u001b[0m\n\u001b[1;37m               ^\u001b[0m\n\u001b[1;31mSyntaxError\u001b[0m\u001b[1;31m:\u001b[0m invalid syntax\n"
     ]
    }
   ],
   "source": [
    "Comparison Operation not applicable between instance of complex\n",
    "values.\n",
    "Object reusability concept is not applicable on complex number"
   ]
  },
  {
   "cell_type": "markdown",
   "id": "34626cf7",
   "metadata": {},
   "source": [
    "# Equality Operator"
   ]
  },
  {
   "cell_type": "code",
   "execution_count": null,
   "id": "962de419",
   "metadata": {},
   "outputs": [],
   "source": [
    "# Equate them using equality operators (==)\n",
    "\n",
    "a = 10+20j\n",
    "b = 10+40j\n",
    "\n",
    "print(a == b)"
   ]
  },
  {
   "cell_type": "code",
   "execution_count": null,
   "id": "a03c25ef",
   "metadata": {},
   "outputs": [],
   "source": [
    "# Equate them using equality operators (!=)\n",
    "\n",
    "a = 10+20j\n",
    "b = 10+40j\n",
    "\n",
    "print(a != b)"
   ]
  },
  {
   "cell_type": "markdown",
   "id": "1251ae2c",
   "metadata": {},
   "source": [
    "# Logical operators"
   ]
  },
  {
   "cell_type": "code",
   "execution_count": null,
   "id": "0e9aa094",
   "metadata": {},
   "outputs": [],
   "source": [
    "# (10+20j and 20+30j) #20+30j\n",
    "\n",
    "a = 10+20j\n",
    "b = 20+30j\n",
    "\n",
    "print(a and b) # if and is taken false value"
   ]
  },
  {
   "cell_type": "code",
   "execution_count": null,
   "id": "1416e18c",
   "metadata": {},
   "outputs": [],
   "source": [
    "# (0+0j and 20+30j) #0+0j\n",
    "\n",
    "a = 0+0j\n",
    "b = 20+30j\n",
    "\n",
    "print(a and b) # if and is taken false value"
   ]
  },
  {
   "cell_type": "code",
   "execution_count": null,
   "id": "5116b432",
   "metadata": {},
   "outputs": [],
   "source": [
    "# (0+0j and 0+0j) #20+30j\n",
    "\n",
    "a = 20+30j\n",
    "b = 0+0j\n",
    "\n",
    "print(a and b) # if and is taken false value"
   ]
  },
  {
   "cell_type": "code",
   "execution_count": null,
   "id": "faabeef4",
   "metadata": {},
   "outputs": [],
   "source": [
    "# (0+0j and 0+0j) #0+0j\n",
    "\n",
    "a = 0+0j\n",
    "b = 0+0j\n",
    "\n",
    "print(a and b) # if and is taken false value"
   ]
  },
  {
   "cell_type": "code",
   "execution_count": null,
   "id": "059dbad2",
   "metadata": {},
   "outputs": [],
   "source": [
    "# (10+20j or 20+30j) #10+20j\n",
    "\n",
    "a = 10+20j\n",
    "b = 20+30j\n",
    "\n",
    "print(a or b) # if and is taken True value"
   ]
  },
  {
   "cell_type": "code",
   "execution_count": null,
   "id": "d93f0aa1",
   "metadata": {},
   "outputs": [],
   "source": [
    "# (0+0j or 20+30j) #20+30j\n",
    "\n",
    "a = 0+0j\n",
    "b = 20+30j\n",
    "\n",
    "print(a or b) # if and is taken True value"
   ]
  },
  {
   "cell_type": "code",
   "execution_count": null,
   "id": "c6b47afd",
   "metadata": {},
   "outputs": [],
   "source": [
    "# (0+0j or 20+30j) #20+30j\n",
    "\n",
    "a = 0+0j\n",
    "b = 20+30j\n",
    "\n",
    "print(a or b) # if and is taken True value"
   ]
  },
  {
   "cell_type": "code",
   "execution_count": null,
   "id": "6d765568",
   "metadata": {},
   "outputs": [],
   "source": [
    "# (0+0j or 0+0j) #0+0j\n",
    "\n",
    "a = 0+0j\n",
    "b = 0+0j\n",
    "\n",
    "print(a or b) # if and is taken True value"
   ]
  },
  {
   "cell_type": "code",
   "execution_count": null,
   "id": "2a92502a",
   "metadata": {},
   "outputs": [],
   "source": [
    "# (not 10+20j)\n",
    "\n",
    "a = 10+20j\n",
    "b = 0+0j\n",
    "\n",
    "print( not a)"
   ]
  },
  {
   "cell_type": "code",
   "execution_count": null,
   "id": "b73537f5",
   "metadata": {},
   "outputs": [],
   "source": [
    "# (not 0+0j)\n",
    "\n",
    "a = 10+20j\n",
    "b = 0+0j\n",
    "\n",
    "print( not b)"
   ]
  },
  {
   "cell_type": "code",
   "execution_count": null,
   "id": "25fd01b4",
   "metadata": {},
   "outputs": [],
   "source": [
    "# What is the output of the expression inside the print statement.Cross check before running the program.\n",
    "\n",
    "a = 10+20j\n",
    "b = 10+20j\n",
    "\n",
    "print(a is b) "
   ]
  },
  {
   "cell_type": "code",
   "execution_count": null,
   "id": "4988bd21",
   "metadata": {},
   "outputs": [],
   "source": [
    "a = 10+20j\n",
    "b = 10+20j\n",
    "\n",
    "print(a is not b)"
   ]
  },
  {
   "cell_type": "markdown",
   "id": "27201076",
   "metadata": {},
   "source": [
    "# Membership operation"
   ]
  },
  {
   "cell_type": "code",
   "execution_count": null,
   "id": "b0a71d52",
   "metadata": {},
   "outputs": [],
   "source": [
    "# ('2.7' in 'Python2.7.8')\n",
    "\n",
    "a = 'python2.7.8'\n",
    "\n",
    "print('2.7' in a)"
   ]
  },
  {
   "cell_type": "code",
   "execution_count": null,
   "id": "57d247d2",
   "metadata": {},
   "outputs": [],
   "source": [
    "# (10+20j in [10,10.20,10+20j,'Python'])\n",
    "\n",
    "a = [10,10.20,10+20j, 'python']\n",
    "\n",
    "print(10+20j in a)"
   ]
  },
  {
   "cell_type": "code",
   "execution_count": null,
   "id": "2c70f44f",
   "metadata": {},
   "outputs": [],
   "source": [
    "# (10+20j in (10,10.20,10+20j,'Python'))\n",
    "\n",
    "a = (10,10.20,10+20j,'python')\n",
    "\n",
    "print(10+20j  in a)"
   ]
  },
  {
   "cell_type": "code",
   "execution_count": null,
   "id": "c5e21a89",
   "metadata": {},
   "outputs": [],
   "source": [
    "#(30+40j in {1,20.30,30+40j})\n",
    "\n",
    "a = {1,20.30,30+40j}\n",
    "\n",
    "print(30+40j in a)"
   ]
  },
  {
   "cell_type": "code",
   "execution_count": null,
   "id": "d8c89774",
   "metadata": {},
   "outputs": [],
   "source": [
    "# (30+40j in {1:100, 2.3:200, 30+40j:300})\n",
    "\n",
    "a = {1:100, 2.3:200, 30+40j:300}\n",
    "\n",
    "print(30+40j in a)"
   ]
  },
  {
   "cell_type": "code",
   "execution_count": 9,
   "id": "08c724ce",
   "metadata": {},
   "outputs": [
    {
     "name": "stdout",
     "output_type": "stream",
     "text": [
      "True\n"
     ]
    }
   ],
   "source": [
    "# (10 in range(20))\n",
    "\n",
    "a = (1,2,3,4,5,6,7,8,9,10,11,12,13,14,15,15,16,17,18,19,20)\n",
    "\n",
    "print(10 in range(20))"
   ]
  },
  {
   "cell_type": "code",
   "execution_count": null,
   "id": "b48b2490",
   "metadata": {},
   "outputs": [],
   "source": []
  },
  {
   "cell_type": "code",
   "execution_count": null,
   "id": "baa90748",
   "metadata": {},
   "outputs": [],
   "source": []
  },
  {
   "cell_type": "code",
   "execution_count": null,
   "id": "36af4fe6",
   "metadata": {},
   "outputs": [],
   "source": []
  },
  {
   "cell_type": "code",
   "execution_count": null,
   "id": "d4fc455d",
   "metadata": {},
   "outputs": [],
   "source": []
  },
  {
   "cell_type": "code",
   "execution_count": null,
   "id": "8c67a21e",
   "metadata": {},
   "outputs": [],
   "source": []
  }
 ],
 "metadata": {
  "kernelspec": {
   "display_name": "Python 3 (ipykernel)",
   "language": "python",
   "name": "python3"
  },
  "language_info": {
   "codemirror_mode": {
    "name": "ipython",
    "version": 3
   },
   "file_extension": ".py",
   "mimetype": "text/x-python",
   "name": "python",
   "nbconvert_exporter": "python",
   "pygments_lexer": "ipython3",
   "version": "3.11.5"
  }
 },
 "nbformat": 4,
 "nbformat_minor": 5
}
